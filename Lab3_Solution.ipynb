{
 "cells": [
  {
   "cell_type": "markdown",
   "id": "4f868011",
   "metadata": {},
   "source": [
    "## **Lab 3**"
   ]
  },
  {
   "cell_type": "markdown",
   "id": "04ceb3d7",
   "metadata": {},
   "source": [
    "In this lab we will become familiar with distributions, histograms, and functional programming. Do not use numpy or any other library for this lab.\n",
    "\n",
    "Before that, lets get setup homework submission and submit your previous lab."
   ]
  },
  {
   "cell_type": "markdown",
   "id": "415e83dc",
   "metadata": {},
   "source": [
    "### **Uniform Distribution**"
   ]
  },
  {
   "cell_type": "markdown",
   "id": "6be006db",
   "metadata": {},
   "source": [
    "Lets start with generating some fake random data. You can get a random number between 0 and 1 using the python random module as follow:"
   ]
  },
  {
   "cell_type": "code",
   "execution_count": 8,
   "id": "0c92443f",
   "metadata": {},
   "outputs": [
    {
     "name": "stdout",
     "output_type": "stream",
     "text": [
      "The Value of x is 0.8918666407789136\n"
     ]
    }
   ],
   "source": [
    "import random\n",
    "x=random.random()\n",
    "print(\"The Value of x is\", x)"
   ]
  },
  {
   "cell_type": "markdown",
   "id": "205668bf",
   "metadata": {},
   "source": [
    "Exercise 1: Using random, write a function generate_uniform(N, mymin, mymax), that returns a python list containing N random numbers between specified minimum and maximum value. Note that you may want to quickly work out on paper how to turn numbers between 0 and 1 to between other values."
   ]
  },
  {
   "cell_type": "code",
   "execution_count": 9,
   "id": "46b56d5a",
   "metadata": {},
   "outputs": [],
   "source": [
    "# Skeleton\n",
    "def generate_uniform(N,x_min,x_max):\n",
    "    \n",
    "    import random\n",
    "    \n",
    "    out = []\n",
    "    \n",
    "    for i in range(N):\n",
    "        \n",
    "        out.append(random.uniform(x_min, x_max))\n",
    "    \n",
    "    return out"
   ]
  },
  {
   "cell_type": "code",
   "execution_count": 10,
   "id": "e3617153",
   "metadata": {},
   "outputs": [
    {
     "name": "stdout",
     "output_type": "stream",
     "text": [
      "Data Type: <class 'list'>\n",
      "Data Length: 1000\n",
      "Type of Data Contents: <class 'float'>\n",
      "Data Minimum: -9.928535088388234\n",
      "Data Maximum: 9.993725678083422\n"
     ]
    }
   ],
   "source": [
    "# Test your solution here\n",
    "data=generate_uniform(1000,-10,10)\n",
    "print (\"Data Type:\", type(data))\n",
    "print (\"Data Length:\", len(data))\n",
    "if len(data)>0: \n",
    "    print (\"Type of Data Contents:\", type(data[0]))\n",
    "    print (\"Data Minimum:\", min(data))\n",
    "    print (\"Data Maximum:\", max(data))"
   ]
  },
  {
   "cell_type": "markdown",
   "id": "35d7fafe",
   "metadata": {},
   "source": [
    "Exercise 2a: Write a function that computes the mean of values in a list. Recall the equation for the mean of a random variable x computed on a data set of n values"
   ]
  },
  {
   "cell_type": "code",
   "execution_count": 11,
   "id": "eff53517",
   "metadata": {},
   "outputs": [],
   "source": [
    "def mean(data):\n",
    "\n",
    "  sum = 0\n",
    "  length = len(data)\n",
    "\n",
    "  for i in data:\n",
    "\n",
    "    sum += i\n",
    "    mean = sum / length\n",
    "\n",
    "  return mean"
   ]
  },
  {
   "cell_type": "code",
   "execution_count": 12,
   "id": "7511bc11",
   "metadata": {},
   "outputs": [
    {
     "name": "stdout",
     "output_type": "stream",
     "text": [
      "Mean of data: 0.1375467888025845\n"
     ]
    }
   ],
   "source": [
    "print(\"Mean of data:\", mean(data))"
   ]
  },
  {
   "cell_type": "markdown",
   "id": "dda7d038",
   "metadata": {},
   "source": [
    "Exercise 2b: Write a function that computes the variance of values in a list. Recall the equation for the variance of a random variable x computed on a data set of n values"
   ]
  },
  {
   "cell_type": "code",
   "execution_count": 13,
   "id": "29f0a00b",
   "metadata": {},
   "outputs": [],
   "source": [
    "## Question 2b:\n",
    "\n",
    "def variance(data):\n",
    "\n",
    "  sum_square_diff = 0\n",
    "  n = len(data)\n",
    "\n",
    "  data_mean = mean(data)\n",
    "\n",
    "  for i in data:\n",
    "    square_diff = (i - data_mean) ** 2  \n",
    "    sum_square_diff += square_diff  \n",
    "\n",
    "  var = sum_square_diff / n  \n",
    "  return var"
   ]
  },
  {
   "cell_type": "code",
   "execution_count": 14,
   "id": "271a6925",
   "metadata": {},
   "outputs": [
    {
     "name": "stdout",
     "output_type": "stream",
     "text": [
      "Variance of data: 31.511777154765532\n"
     ]
    }
   ],
   "source": [
    "print(\"Variance of data:\", variance(data))"
   ]
  },
  {
   "cell_type": "markdown",
   "id": "91a7bb49",
   "metadata": {},
   "source": [
    "### **Histogram**"
   ]
  },
  {
   "cell_type": "markdown",
   "id": "ebc1613b",
   "metadata": {},
   "source": [
    "Exercise 3: Write a function that bins the data so that you can create a histogram. An example of how to implement histogramming is the following logic:"
   ]
  },
  {
   "cell_type": "code",
   "execution_count": 15,
   "id": "edd49974",
   "metadata": {},
   "outputs": [],
   "source": [
    "# Solution\n",
    "def histogram(x,n_bins=10,x_min=None,x_max=None):\n",
    "    \n",
    "    if x_min == None:\n",
    "        x_min = min(x)\n",
    "\n",
    "    if x_max == None:\n",
    "        x_max = max(x)\n",
    "    \n",
    "    bin_size = (x_max - x_min) / n_bins # calculate bin_size\n",
    "    \n",
    "    hist = [0] * n_bins # createa an empty list of zeros of size n_bins \n",
    "    \n",
    "    bin_edges = [x_min + i * bin_size for i in range(n_bins + 1)] # calculate bin_edges\n",
    "    \n",
    "    for value in x:\n",
    "        for j in range(n_bins):\n",
    "            if x_min + j * bin_size <= value < x_min + (j + 1) * bin_size:\n",
    "                hist[j] += 1\n",
    "                continue\n",
    "  \n",
    "    return hist, bin_edges"
   ]
  },
  {
   "cell_type": "code",
   "execution_count": 16,
   "id": "f3e504c8",
   "metadata": {},
   "outputs": [
    {
     "name": "stdout",
     "output_type": "stream",
     "text": [
      "[9, 7, 6, 6, 11, 10, 5, 7, 15, 9, 10, 12, 7, 13, 5, 14, 7, 10, 12, 10, 6, 9, 8, 10, 12, 6, 12, 15, 20, 4, 17, 14, 7, 8, 8, 9, 8, 11, 9, 19, 11, 8, 13, 7, 9, 8, 13, 9, 15, 8, 2, 10, 12, 10, 12, 13, 10, 7, 18, 11, 6, 9, 9, 5, 12, 14, 12, 13, 8, 8, 10, 9, 9, 9, 15, 13, 8, 11, 13, 8, 18, 12, 6, 5, 8, 15, 6, 6, 10, 11, 12, 10, 12, 8, 13, 7, 15, 7, 8, 6]\n"
     ]
    }
   ],
   "source": [
    "# Test your solution here\n",
    "\n",
    "h,b=histogram(data,100)\n",
    "print(h)"
   ]
  },
  {
   "cell_type": "markdown",
   "id": "f97b5dad",
   "metadata": {},
   "source": [
    "Exercise 4: Write a function that uses the histogram function in the previous exercise to create a text-based \"graph\". For example the output could look like the following:"
   ]
  },
  {
   "cell_type": "markdown",
   "id": "b8a48584",
   "metadata": {},
   "source": [
    "\n",
    "    [  0,  1] : ######\n",
    "    [  1,  2] : #####\n",
    "    [  2,  3] : ######\n",
    "    [  3,  4] : ####\n",
    "    [  4,  5] : ####\n",
    "    [  5,  6] : ######\n",
    "    [  6,  7] : #####\n",
    "    [  7,  8] : ######\n",
    "    [  8,  9] : ####\n",
    "    [  9, 10] : #####\n",
    "\n",
    "Where each line corresponds to a bin and the number of `#`'s are proportional to the value of the data in the bin. \""
   ]
  },
  {
   "cell_type": "code",
   "execution_count": 17,
   "id": "c7e3deef",
   "metadata": {},
   "outputs": [],
   "source": [
    "# Solution\n",
    "def draw_histogram(x,n_bins,x_min=None,x_max=None,character=\"#\",max_character_per_line=20):\n",
    "    \n",
    "    hist, bin_edges = histogram(x, n_bins, x_min, x_max)\n",
    "    \n",
    "    for i in range(len(hist)):\n",
    "        \n",
    "        bar = '#' * hist[i]\n",
    "        \n",
    "        bin_labels = f\"[{bin_edges[i]:.0f}, {bin_edges[i+1]:.0f}]\"\n",
    "        \n",
    "        print(f\"{bin_labels}: {bar}\")"
   ]
  },
  {
   "cell_type": "code",
   "execution_count": 18,
   "id": "f634b09d",
   "metadata": {},
   "outputs": [
    {
     "name": "stdout",
     "output_type": "stream",
     "text": [
      "[-10, -9]: #######################################\n",
      "[-9, -8]: ##############################################\n",
      "[-8, -7]: ###############################################\n",
      "[-7, -6]: #####################################################\n",
      "[-6, -5]: #############################################\n",
      "[-5, -4]: #########################################################\n",
      "[-4, -3]: ######################################################\n",
      "[-3, -2]: ########################################################\n",
      "[-2, -1]: ################################################\n",
      "[-1, 0]: #####################################################\n",
      "[0, 1]: ##############################################\n",
      "[1, 2]: ###########################################################\n",
      "[2, 3]: #########################################\n",
      "[3, 4]: #######################################################\n",
      "[4, 5]: ####################################################\n",
      "[5, 6]: #####################################################\n",
      "[6, 7]: #################################################\n",
      "[7, 8]: ################################################\n",
      "[8, 9]: #######################################################\n",
      "[9, 10]: ###########################################\n"
     ]
    }
   ],
   "source": [
    "# Test your solution here\n",
    "draw_histogram(data,20)"
   ]
  },
  {
   "cell_type": "markdown",
   "id": "4130c765",
   "metadata": {},
   "source": [
    "### **Functional Programming**"
   ]
  },
  {
   "cell_type": "markdown",
   "id": "5c53a312",
   "metadata": {},
   "source": [
    "Exercise 5: Write a function the applies a booling function (that returns true/false) to every element in data, and return a list of indices of elements where the result was true. Use this function to find the indices of entries greater than 0.5."
   ]
  },
  {
   "cell_type": "code",
   "execution_count": 19,
   "id": "7e13eb23",
   "metadata": {},
   "outputs": [],
   "source": [
    "def where(mylist, myfunc):\n",
    "    \n",
    "    out = []\n",
    "    \n",
    "    for i in range(len(mylist)):\n",
    "        \n",
    "        if myfunc(mylist[i]) == True:\n",
    "            out.append(i)\n",
    "  \n",
    "    return out"
   ]
  },
  {
   "cell_type": "code",
   "execution_count": 20,
   "id": "f75e1fa8",
   "metadata": {},
   "outputs": [
    {
     "name": "stdout",
     "output_type": "stream",
     "text": [
      "[1, 3, 4, 5, 6, 7]\n"
     ]
    }
   ],
   "source": [
    "mylist = [0.1,0.6,0.5,0.7,0.8,1,2,3]\n",
    "\n",
    "myfunc = lambda x: x > 0.5\n",
    "\n",
    "print(where(mylist, myfunc))"
   ]
  },
  {
   "cell_type": "markdown",
   "id": "03798c93",
   "metadata": {},
   "source": [
    "Exercise 6: The inrange(mymin,mymax) function below returns a function that tests if it's input is between the specified values. Write corresponding functions that test:\n",
    "\n",
    "    * Even\n",
    "    * Odd\n",
    "    * Greater than\n",
    "    * Less than\n",
    "    * Equal\n",
    "    * Divisible by"
   ]
  },
  {
   "cell_type": "code",
   "execution_count": 34,
   "id": "72e06988",
   "metadata": {},
   "outputs": [
    {
     "name": "stdout",
     "output_type": "stream",
     "text": [
      "True True False False False\n",
      "False False True True False\n",
      "Number of Entries passing F1: 503\n",
      "Number of Entries passing F2: 0\n"
     ]
    }
   ],
   "source": [
    "def in_range(mymin,mymax):\n",
    "    \n",
    "    def testrange(x):\n",
    "        \n",
    "        return x<mymax and x>=mymin\n",
    "    return testrange\n",
    "\n",
    "# Examples:\n",
    "F1=in_range(0,10)\n",
    "F2=in_range(10,20)\n",
    "\n",
    "# Test of in_range\n",
    "print (F1(0), F1(1), F1(10), F1(15), F1(20))\n",
    "print (F2(0), F2(1), F2(10), F2(15), F2(20))\n",
    "\n",
    "print (\"Number of Entries passing F1:\", len(where(data,F1)))\n",
    "print (\"Number of Entries passing F2:\", len(where(data,F2)))"
   ]
  },
  {
   "cell_type": "code",
   "execution_count": 14,
   "id": "eec0236e",
   "metadata": {},
   "outputs": [],
   "source": [
    "# Test even number:\n",
    "\n",
    "def even_number_test(x):\n",
    "    \n",
    "    if x%2 == 0:\n",
    "        print(f\"{x} is an even number \")\n",
    "  \n",
    "    else:\n",
    "        print(f\"{x} is not even number \")"
   ]
  },
  {
   "cell_type": "code",
   "execution_count": 15,
   "id": "71196882",
   "metadata": {},
   "outputs": [
    {
     "name": "stdout",
     "output_type": "stream",
     "text": [
      "0 is an even number \n",
      "1 is not even number \n",
      "1.55 is not even number \n"
     ]
    }
   ],
   "source": [
    "even_number_test(0)\n",
    "even_number_test(1)\n",
    "even_number_test(1.55)"
   ]
  },
  {
   "cell_type": "code",
   "execution_count": 16,
   "id": "e2980788",
   "metadata": {},
   "outputs": [],
   "source": [
    "# Test odd number:\n",
    "\n",
    "def odd_number_test(x):\n",
    "    \n",
    "    if x%2 != 0:\n",
    "        print(f\"{x} is an odd number \")\n",
    "        \n",
    "    else:\n",
    "        print(f\"{x} is not an odd number \")"
   ]
  },
  {
   "cell_type": "code",
   "execution_count": 17,
   "id": "25d34b55",
   "metadata": {},
   "outputs": [
    {
     "name": "stdout",
     "output_type": "stream",
     "text": [
      "0 is not an odd number \n",
      "1 is an odd number \n",
      "3 is an odd number \n"
     ]
    }
   ],
   "source": [
    "odd_number_test(0)\n",
    "odd_number_test(1)\n",
    "odd_number_test(3)"
   ]
  },
  {
   "cell_type": "code",
   "execution_count": 36,
   "id": "f2570cd8",
   "metadata": {},
   "outputs": [],
   "source": [
    "# Test Larger than or Less than:\n",
    "\n",
    "def larger_than(value):\n",
    "    def test_greater(x):\n",
    "        return x > value\n",
    "    \n",
    "    return test_greater\n",
    "\n",
    "def less_than(value):\n",
    "    def test_lesser(x):\n",
    "        return x < value\n",
    "    \n",
    "    return test_lesser\n",
    "\n",
    "def equal_than(value):\n",
    "    def test_equal(x):\n",
    "        return x == value\n",
    "    \n",
    "    return test_equal"
   ]
  },
  {
   "cell_type": "code",
   "execution_count": 39,
   "id": "88dd0fe3",
   "metadata": {},
   "outputs": [
    {
     "name": "stdout",
     "output_type": "stream",
     "text": [
      "False True False\n",
      "True False False\n",
      "True False False\n"
     ]
    }
   ],
   "source": [
    "f_greater = larger_than(5)\n",
    "f_smaller = less_than(9)\n",
    "f_equal = equal_than(10)\n",
    "\n",
    "print(f_greater(4), f_greater(6), f_greater(5))\n",
    "print(f_smaller(8), f_smaller(10), f_smaller(11))\n",
    "print(f_equal(10), f_equal(7), f_equal(6))"
   ]
  },
  {
   "cell_type": "code",
   "execution_count": 20,
   "id": "f7da73af",
   "metadata": {},
   "outputs": [],
   "source": [
    "# Test Divisible by:\n",
    "\n",
    "def divisible_by(divisor):\n",
    "    def check_divisible(number):\n",
    "        return number % divisor == 0\n",
    "    \n",
    "    return check_divisible"
   ]
  },
  {
   "cell_type": "code",
   "execution_count": 21,
   "id": "b78e2e19",
   "metadata": {},
   "outputs": [
    {
     "name": "stdout",
     "output_type": "stream",
     "text": [
      "True\n"
     ]
    }
   ],
   "source": [
    "divisible_by_3 = divisible_by(3)\n",
    "\n",
    "print(divisible_by_3(9))   "
   ]
  },
  {
   "cell_type": "markdown",
   "id": "360ca074",
   "metadata": {},
   "source": [
    "Exercise 7: Repeat the previous exercise using lambda and the built-in python functions sum and map instead of your solution above."
   ]
  },
  {
   "cell_type": "code",
   "execution_count": 67,
   "id": "a59b6a26",
   "metadata": {},
   "outputs": [],
   "source": [
    "# Test in range\n",
    "\n",
    "def in_range_test(min_val, max_val):\n",
    "    \n",
    "    boolean = list(map(lambda x: min_val < x < max_val, list0))\n",
    "    \n",
    "    print(boolean)\n",
    "\n",
    "    in_range_numbers = list(filter(lambda x: min_val < x < max_val, list0))\n",
    "    \n",
    "    print(in_range_numbers)\n",
    "    \n",
    "    amount_in_range_numbers = sum(map(lambda x: min_val < x < max_val, list0))\n",
    "    \n",
    "    print(amount_in_range_numbers)"
   ]
  },
  {
   "cell_type": "code",
   "execution_count": 68,
   "id": "1678e422",
   "metadata": {},
   "outputs": [
    {
     "name": "stdout",
     "output_type": "stream",
     "text": [
      "[False, False, True, True, True, True, True, True, False, False]\n",
      "[3, 4, 5, 6, 7, 8]\n",
      "6\n"
     ]
    }
   ],
   "source": [
    "min_val = 2\n",
    "max_val = 9\n",
    "\n",
    "list0 = [1,2,3,4,5,6,7,8,9,10]\n",
    "\n",
    "in_range_test(min_val, max_val)"
   ]
  },
  {
   "cell_type": "code",
   "execution_count": 40,
   "id": "958a76a5",
   "metadata": {},
   "outputs": [],
   "source": [
    "# Test even number\n",
    "\n",
    "def even_number_test(x):\n",
    "    \n",
    "    boolean = list(map(lambda x: x%2 == 0, list1))\n",
    "    \n",
    "    print(boolean)\n",
    "    \n",
    "    even_numbers = list(filter(lambda x: x%2 == 0, list1))\n",
    "    \n",
    "    print(even_numbers)\n",
    "    \n",
    "    amount_even_numbers = sum(map(lambda x: x%2 == 0, list1))\n",
    "    \n",
    "    print(amount_even_numbers)"
   ]
  },
  {
   "cell_type": "code",
   "execution_count": 41,
   "id": "7c96d8d1",
   "metadata": {},
   "outputs": [
    {
     "name": "stdout",
     "output_type": "stream",
     "text": [
      "[False, True, False, True, False, True, False, True, False, True]\n",
      "[2, 4, 6, 8, 10]\n",
      "5\n"
     ]
    }
   ],
   "source": [
    "list1 = [1,2,3,4,5,6,7,8,9,10]\n",
    "\n",
    "even_number_test(list1)"
   ]
  },
  {
   "cell_type": "code",
   "execution_count": 42,
   "id": "c4c0a665",
   "metadata": {},
   "outputs": [],
   "source": [
    "# Test odd number\n",
    "\n",
    "def odd_number_test(x):\n",
    "    \n",
    "    boolean = list(map(lambda x: x%2 != 0, list1))\n",
    "    \n",
    "    print(boolean)\n",
    "\n",
    "    odd_numbers = list(filter(lambda x: x%2 != 0, list1))\n",
    "    \n",
    "    print(odd_numbers)\n",
    "    \n",
    "    amount_odd_numbers = sum(map(lambda x: x%2 != 0, list1))\n",
    "    \n",
    "    print(amount_odd_numbers)\n",
    "    "
   ]
  },
  {
   "cell_type": "code",
   "execution_count": 43,
   "id": "e5d5aa84",
   "metadata": {},
   "outputs": [
    {
     "name": "stdout",
     "output_type": "stream",
     "text": [
      "[True, False, True, False, True, False, True, False, True, False]\n",
      "[1, 3, 5, 7, 9]\n",
      "5\n"
     ]
    }
   ],
   "source": [
    "list1 = [1,2,3,4,5,6,7,8,9,10]\n",
    "\n",
    "odd_number_test(list1)"
   ]
  },
  {
   "cell_type": "code",
   "execution_count": 47,
   "id": "cbf8b9f6",
   "metadata": {},
   "outputs": [],
   "source": [
    "# Test larger\n",
    "\n",
    "def larger_number_test(value):\n",
    "    \n",
    "    boolean = list(map(lambda x: x > value, list1))\n",
    "    \n",
    "    print(boolean)\n",
    "    \n",
    "    larger_numbers = list(filter(lambda x: x > value, list1))\n",
    "    \n",
    "    print(larger_numbers)\n",
    "    \n",
    "    amount_larger_numbers = sum(map(lambda x: x > value, list1))\n",
    "    \n",
    "    print(amount_larger_numbers)"
   ]
  },
  {
   "cell_type": "code",
   "execution_count": 48,
   "id": "2013d2a4",
   "metadata": {},
   "outputs": [
    {
     "name": "stdout",
     "output_type": "stream",
     "text": [
      "[False, False, True, True, True, True, True, True, False, True, False, False]\n",
      "[13, 12.1, 23, 24, 20, 50, 30]\n",
      "7\n"
     ]
    }
   ],
   "source": [
    "value = 12\n",
    "\n",
    "list1 = [10, 12, 13, 12.1, 23, 24, 20, 50, 12, 30, 8, 9]\n",
    "\n",
    "larger_number_test(value)"
   ]
  },
  {
   "cell_type": "code",
   "execution_count": 55,
   "id": "3b7ca026",
   "metadata": {},
   "outputs": [],
   "source": [
    "# Test Smaller \n",
    "\n",
    "def smaller_number_test(value):\n",
    "    \n",
    "    boolean = list(map(lambda x: x < value, list2))\n",
    "    \n",
    "    print(boolean)\n",
    "    \n",
    "    smaller_numbers = list(filter(lambda x: x < value, list2))\n",
    "    \n",
    "    print(smaller_numbers)\n",
    "    \n",
    "    amount_smaller_numbers = sum(map(lambda x: x < value, list2))\n",
    "    \n",
    "    print(amount_smaller_numbers)"
   ]
  },
  {
   "cell_type": "code",
   "execution_count": 56,
   "id": "f92e8349",
   "metadata": {},
   "outputs": [
    {
     "name": "stdout",
     "output_type": "stream",
     "text": [
      "[True, True, True, True, False, False, False, False, True, False, True, True]\n",
      "[10, 12, 13, 12.1, 12, 8, 9]\n",
      "7\n"
     ]
    }
   ],
   "source": [
    "value = 15\n",
    "\n",
    "list2 = [10, 9, 13, 7, 23, 24, 10, 15, 12, 10, 8, 19]\n",
    "\n",
    "larger_number_test(value)"
   ]
  },
  {
   "cell_type": "code",
   "execution_count": 61,
   "id": "5f909fad",
   "metadata": {},
   "outputs": [],
   "source": [
    "# Test Equal \n",
    "\n",
    "def equal_number_test(value):\n",
    "    \n",
    "    boolean = list(map(lambda x: x == value, list3))\n",
    "    \n",
    "    print(boolean)\n",
    "    \n",
    "    equal_numbers = list(filter(lambda x: x == value, list3))\n",
    "    \n",
    "    print(equal_numbers)\n",
    "    \n",
    "    amount_equal_numbers = sum(map(lambda x: x == value, list3))\n",
    "    \n",
    "    print(amount_equal_numbers)"
   ]
  },
  {
   "cell_type": "code",
   "execution_count": 62,
   "id": "34c0423a",
   "metadata": {},
   "outputs": [
    {
     "name": "stdout",
     "output_type": "stream",
     "text": [
      "[False, False, True, False, False, True, False, True, False, False, False, False]\n",
      "[15, 15, 15]\n",
      "3\n"
     ]
    }
   ],
   "source": [
    "value = 15\n",
    "\n",
    "list3 = [20, 9, 15, 47, 23, 15, 10, 15, 12, 70, 18, 32]\n",
    "\n",
    "equal_number_test(value)"
   ]
  },
  {
   "cell_type": "code",
   "execution_count": 63,
   "id": "b587fcc3",
   "metadata": {},
   "outputs": [],
   "source": [
    "# Test Divisible by\n",
    "\n",
    "def divisible_by_test(value):\n",
    "    \n",
    "    boolean = list(map(lambda x: x % value == 0, list4))\n",
    "    \n",
    "    print(boolean)\n",
    "    \n",
    "    divisible_numbers = list(filter(lambda x: x % value == 0, list4))\n",
    "    \n",
    "    print(divisible_numbers)\n",
    "    \n",
    "    amount_divisible_numbers = sum(map(lambda x: x % value == 0, list4))\n",
    "    \n",
    "    print(amount_divisible_numbers)"
   ]
  },
  {
   "cell_type": "code",
   "execution_count": 64,
   "id": "f591a5cf",
   "metadata": {},
   "outputs": [
    {
     "name": "stdout",
     "output_type": "stream",
     "text": [
      "[False, True, True, False, False, True, False, True, True, True, True, True]\n",
      "[9, 15, 15, 27, 12, 72, 18, 30]\n",
      "8\n"
     ]
    }
   ],
   "source": [
    "value = 3\n",
    "\n",
    "list4 = [20, 9, 15, 47, 23, 15, 10, 27, 12, 72, 18, 30]\n",
    "\n",
    "divisible_by_test(value)"
   ]
  },
  {
   "cell_type": "markdown",
   "id": "224b9d06",
   "metadata": {},
   "source": [
    "### **Monte Carlo**"
   ]
  },
  {
   "cell_type": "markdown",
   "id": "de8c5f4d",
   "metadata": {},
   "source": [
    "Exercise 8: Write a \"generator\" function called generate_function(func,x_min,x_max,N), that instead of generating a flat distribution, generates a distribution with functional form coded in func. Note that func will always be > 0.\n",
    "\n",
    "Use the test function below and your histogramming functions above to demonstrate that your generator is working properly.\n",
    "\n",
    "Hint: A simple, but slow, solution is to a draw random number test_x within the specified range and another number p between the min and max of the function (which you will have to determine). If p<=function(test_x), then place test_x on the output. If not, repeat the process, drawing two new numbers. Repeat until you have the specified number of generated numbers, N. For this problem, it's OK to determine the min and max by numerically sampling the function."
   ]
  },
  {
   "cell_type": "code",
   "execution_count": 21,
   "id": "d2fc9835",
   "metadata": {},
   "outputs": [],
   "source": [
    "def generate_function(func, x_min, x_max, N = 1000):\n",
    "    \n",
    "    import random\n",
    "\n",
    "    out = []\n",
    "    \n",
    "    num_samples = 1000\n",
    "  \n",
    "    x_samples = [random.uniform(x_min, x_max) for _ in range(num_samples)]\n",
    "    max_func_value = max(func(x) for x in x_samples)\n",
    "\n",
    "    while len(out) < N:\n",
    "        test_x = random.uniform(x_min, x_max)\n",
    "\n",
    "        p = random.uniform(0, max_func_value)\n",
    "\n",
    "        if p <= func(test_x):\n",
    "            out.append(test_x)\n",
    "\n",
    "    return out"
   ]
  },
  {
   "cell_type": "code",
   "execution_count": 22,
   "id": "4481113d",
   "metadata": {},
   "outputs": [],
   "source": [
    "# A test function\n",
    "def test_func(x,a=1,b=1):\n",
    "    return abs(a*x+b)"
   ]
  },
  {
   "cell_type": "code",
   "execution_count": 24,
   "id": "24a1d9c4",
   "metadata": {},
   "outputs": [
    {
     "name": "stdout",
     "output_type": "stream",
     "text": [
      "[1, 1]: ##################\n",
      "[1, 2]: ####################################\n",
      "[2, 2]: #################################\n",
      "[2, 3]: #############################\n",
      "[3, 3]: ####################################\n",
      "[3, 4]: ####################################\n",
      "[4, 4]: ##############################\n",
      "[4, 5]: ################################\n",
      "[5, 5]: ######################################################\n",
      "[5, 6]: ############################################\n",
      "[6, 6]: ###############################################################\n",
      "[6, 6]: #############################################\n",
      "[6, 7]: #################################################\n",
      "[7, 7]: ###########################################################\n",
      "[7, 8]: #############################################################\n",
      "[8, 8]: ################################################################\n",
      "[8, 9]: ###################################################################\n",
      "[9, 9]: ######################################################################\n",
      "[9, 10]: #######################################################################################\n",
      "[10, 10]: ######################################################################################\n"
     ]
    }
   ],
   "source": [
    "new_data = generate_function(test_func, 1, 10, N = 1000)\n",
    "\n",
    "draw_histogram(new_data, n_bins = 20)"
   ]
  },
  {
   "cell_type": "markdown",
   "id": "6fd01397",
   "metadata": {},
   "source": [
    "Exercise 9: Use your function to generate 1000 numbers that are normal distributed, using the gaussian function below. Confirm the mean and variance of the data is close to the mean and variance you specify when building the Gaussian. Histogram the data."
   ]
  },
  {
   "cell_type": "code",
   "execution_count": 29,
   "id": "235ad53f",
   "metadata": {},
   "outputs": [],
   "source": [
    "import math\n",
    "\n",
    "def gaussian(mean, sigma):\n",
    "    def f(x):\n",
    "        return math.exp(-((x-mean)**2)/(2*sigma**2))/math.sqrt(math.pi*sigma)\n",
    "    return f\n",
    "\n",
    "# Example Instantiation\n",
    "mean = 0\n",
    "sigma = 1\n",
    "g1=gaussian(mean, sigma)"
   ]
  },
  {
   "cell_type": "code",
   "execution_count": 30,
   "id": "cb80f563",
   "metadata": {},
   "outputs": [
    {
     "name": "stdout",
     "output_type": "stream",
     "text": [
      "Expected mean: 0, Sample mean: 0.008760235486837572\n",
      "Expected variance: 1, Sample variance: 1.072269186551379\n"
     ]
    }
   ],
   "source": [
    "generated_data = generate_function(g1, mean - 5*sigma, mean + 5*sigma, N = 1000)\n",
    "\n",
    "sample_mean = sum(generated_data) / len(generated_data)\n",
    "\n",
    "sample_variance = sum((x-mean)**2 for x in generated_data) / len(generated_data)\n",
    "\n",
    "print(f\"Expected mean: {mean}, Sample mean: {sample_mean}\")\n",
    "\n",
    "print(f\"Expected variance: {sigma**2}, Sample variance: {sample_variance}\")"
   ]
  },
  {
   "cell_type": "code",
   "execution_count": 31,
   "id": "3e7bdc91",
   "metadata": {},
   "outputs": [
    {
     "name": "stdout",
     "output_type": "stream",
     "text": [
      "[-3, -3]: ######\n",
      "[-3, -2]: ######\n",
      "[-2, -2]: ############\n",
      "[-2, -2]: #####################\n",
      "[-2, -1]: ################################################\n",
      "[-1, -1]: #############################################################################################\n",
      "[-1, -1]: ##################################################################################################################################\n",
      "[-1, -0]: #############################################################################################################################################\n",
      "[-0, 0]: ############################################################################################################################################\n",
      "[0, 1]: #################################################################################################################\n",
      "[1, 1]: ###################################################################################################\n",
      "[1, 1]: ##################################################################################\n",
      "[1, 2]: ##########################################\n",
      "[2, 2]: ##################################\n",
      "[2, 2]: ####################\n",
      "[2, 3]: ########\n",
      "[3, 3]: ##\n",
      "[3, 3]: ##\n",
      "[3, 4]: \n",
      "[4, 4]: \n"
     ]
    }
   ],
   "source": [
    "draw_histogram(generated_data, n_bins = 20)"
   ]
  },
  {
   "cell_type": "markdown",
   "id": "0505149d",
   "metadata": {},
   "source": [
    "Exercise 10: Combine your generate_function, where, and in_range functions above to create an integrate function. Use your integrate function to show that approximately 68% of Normal distribution is within one variance."
   ]
  },
  {
   "cell_type": "code",
   "execution_count": 39,
   "id": "216e9793",
   "metadata": {},
   "outputs": [],
   "source": [
    "def integrate(func, x_min, x_max, n_points=1000):\n",
    "    \n",
    "    points = generate_function(func, x_min, x_max, N = n_points)\n",
    "    \n",
    "    return len(points) / n_points\n",
    "\n",
    "def test_intergral():\n",
    "    mean = 0\n",
    "    sigma = 1\n",
    "    g1 = gaussian(mean, sigma)\n",
    "    \n",
    "    generated_data = generate_function(g1, mean - 5*sigma, mean + 5*sigma, N = 1000)\n",
    "    \n",
    "    indices_in_range = where(generated_data, in_range(mean - sigma, mean + sigma))\n",
    "    \n",
    "    percentage_in_range = len(indices_in_range) / len(generated_data)\n",
    "    \n",
    "    print(percentage_in_range*100)"
   ]
  },
  {
   "cell_type": "code",
   "execution_count": 38,
   "id": "9868869b",
   "metadata": {},
   "outputs": [
    {
     "name": "stdout",
     "output_type": "stream",
     "text": [
      "68.8\n"
     ]
    }
   ],
   "source": [
    "test_intergral()"
   ]
  }
 ],
 "metadata": {
  "kernelspec": {
   "display_name": "Python 3 (ipykernel)",
   "language": "python",
   "name": "python3"
  },
  "language_info": {
   "codemirror_mode": {
    "name": "ipython",
    "version": 3
   },
   "file_extension": ".py",
   "mimetype": "text/x-python",
   "name": "python",
   "nbconvert_exporter": "python",
   "pygments_lexer": "ipython3",
   "version": "3.12.3"
  }
 },
 "nbformat": 4,
 "nbformat_minor": 5
}
