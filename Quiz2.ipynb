{
 "cells": [
  {
   "cell_type": "markdown",
   "id": "737f8aa7",
   "metadata": {},
   "source": [
    "## **QUIZ 2:**"
   ]
  },
  {
   "cell_type": "markdown",
   "id": "9d2f5256",
   "metadata": {},
   "source": [
    "Write a function `make_deck` that returns a list of all of the cards in a standard card deck. The return should be a list of tuples of pairs of suit and value. For example the 10 of Clubs would be  `('Clubs', 10)` and Queen of Hearts would be `('Hearts', 'Queen')`. Recall that a deck has 52 cards, divided into 4 suits (Clubs, Diamonds, Hearts, and Spades), and that each suit has 13 cards: 2 to 10, Jack, Queen, King, and Ace. Summit your solution with Lab 5."
   ]
  },
  {
   "cell_type": "code",
   "execution_count": 9,
   "id": "ea2bac1c",
   "metadata": {},
   "outputs": [],
   "source": [
    "def make_deck():\n",
    "    \n",
    "    suits = ['Heart', 'Spade', 'Club', 'Diamond']\n",
    "    values = [2,3,4,5,6,7,8,9,10,'Jack','Queen','King','Ace']\n",
    "    \n",
    "    standard_deck = []\n",
    "    \n",
    "    for suit in suits:\n",
    "        for value in values:\n",
    "            standard_deck.append(f\"{suit}, {value}\")\n",
    "    \n",
    "    return standard_deck"
   ]
  },
  {
   "cell_type": "code",
   "execution_count": 10,
   "id": "360d7361",
   "metadata": {},
   "outputs": [
    {
     "data": {
      "text/plain": [
       "['Heart, 2',\n",
       " 'Heart, 3',\n",
       " 'Heart, 4',\n",
       " 'Heart, 5',\n",
       " 'Heart, 6',\n",
       " 'Heart, 7',\n",
       " 'Heart, 8',\n",
       " 'Heart, 9',\n",
       " 'Heart, 10',\n",
       " 'Heart, Jack',\n",
       " 'Heart, Queen',\n",
       " 'Heart, King',\n",
       " 'Heart, Ace',\n",
       " 'Spade, 2',\n",
       " 'Spade, 3',\n",
       " 'Spade, 4',\n",
       " 'Spade, 5',\n",
       " 'Spade, 6',\n",
       " 'Spade, 7',\n",
       " 'Spade, 8',\n",
       " 'Spade, 9',\n",
       " 'Spade, 10',\n",
       " 'Spade, Jack',\n",
       " 'Spade, Queen',\n",
       " 'Spade, King',\n",
       " 'Spade, Ace',\n",
       " 'Club, 2',\n",
       " 'Club, 3',\n",
       " 'Club, 4',\n",
       " 'Club, 5',\n",
       " 'Club, 6',\n",
       " 'Club, 7',\n",
       " 'Club, 8',\n",
       " 'Club, 9',\n",
       " 'Club, 10',\n",
       " 'Club, Jack',\n",
       " 'Club, Queen',\n",
       " 'Club, King',\n",
       " 'Club, Ace',\n",
       " 'Diamond, 2',\n",
       " 'Diamond, 3',\n",
       " 'Diamond, 4',\n",
       " 'Diamond, 5',\n",
       " 'Diamond, 6',\n",
       " 'Diamond, 7',\n",
       " 'Diamond, 8',\n",
       " 'Diamond, 9',\n",
       " 'Diamond, 10',\n",
       " 'Diamond, Jack',\n",
       " 'Diamond, Queen',\n",
       " 'Diamond, King',\n",
       " 'Diamond, Ace']"
      ]
     },
     "execution_count": 10,
     "metadata": {},
     "output_type": "execute_result"
    }
   ],
   "source": [
    "deck = make_deck()\n",
    "\n",
    "deck"
   ]
  },
  {
   "cell_type": "code",
   "execution_count": null,
   "id": "8a5f724a",
   "metadata": {},
   "outputs": [],
   "source": []
  }
 ],
 "metadata": {
  "kernelspec": {
   "display_name": "Python 3 (ipykernel)",
   "language": "python",
   "name": "python3"
  },
  "language_info": {
   "codemirror_mode": {
    "name": "ipython",
    "version": 3
   },
   "file_extension": ".py",
   "mimetype": "text/x-python",
   "name": "python",
   "nbconvert_exporter": "python",
   "pygments_lexer": "ipython3",
   "version": "3.12.3"
  }
 },
 "nbformat": 4,
 "nbformat_minor": 5
}
