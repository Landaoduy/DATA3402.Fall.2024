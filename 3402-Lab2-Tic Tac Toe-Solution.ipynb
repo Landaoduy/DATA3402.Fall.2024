{
 "cells": [
  {
   "cell_type": "markdown",
   "id": "861b43a6",
   "metadata": {},
   "source": [
    "## Lab 2- Tic Tac Toe"
   ]
  },
  {
   "cell_type": "markdown",
   "id": "77734cea",
   "metadata": {},
   "source": [
    "In this lab your will build a n x n Tic Tac Toe game. As you do the exercises, make sure your solutions work for any size Tic Tac Toe game."
   ]
  },
  {
   "cell_type": "markdown",
   "id": "f762818f",
   "metadata": {},
   "source": [
    "Exercise 1: Write a function that creates an n by n matrix (of list of lists) which will represent the state of a Tie Tac Toe game. Let 0, 1, and 2 represent empty, \"X\", and \"O\", respectively."
   ]
  },
  {
   "cell_type": "code",
   "execution_count": 1,
   "id": "4df5aea4",
   "metadata": {},
   "outputs": [],
   "source": [
    "def create_matrix(n):\n",
    "    x = 1\n",
    "    o = 2\n",
    "    empty = 0\n",
    "    \n",
    "    board = list()\n",
    "    for i in range(n):\n",
    "        board.append([empty]*n)\n",
    "    \n",
    "    for row in board:\n",
    "        print(row)"
   ]
  },
  {
   "cell_type": "code",
   "execution_count": 2,
   "id": "120ce3d6",
   "metadata": {},
   "outputs": [
    {
     "name": "stdout",
     "output_type": "stream",
     "text": [
      "[0, 0, 0]\n",
      "[0, 0, 0]\n",
      "[0, 0, 0]\n"
     ]
    }
   ],
   "source": [
    "# Test solution\n",
    "matrix = create_matrix(3)\n",
    "\n",
    "matrix"
   ]
  },
  {
   "cell_type": "markdown",
   "id": "148e3ed0",
   "metadata": {},
   "source": [
    "Exercise 2: Write a function that takes 2 integers n and m as input and draws a n by m game board. For example the following is a 3x3 board:"
   ]
  },
  {
   "cell_type": "code",
   "execution_count": 3,
   "id": "f4c4b030",
   "metadata": {},
   "outputs": [],
   "source": [
    "def draw_game_board(n, m):\n",
    "    \n",
    "    for i in range(n):\n",
    "        print(\" ---\" * m)\n",
    "        print(\"|   \" * (m+1))\n",
    "\n",
    "    print(\" ---\" * m)"
   ]
  },
  {
   "cell_type": "code",
   "execution_count": 4,
   "id": "5d476c30",
   "metadata": {},
   "outputs": [
    {
     "name": "stdout",
     "output_type": "stream",
     "text": [
      " --- --- ---\n",
      "|   |   |   |   \n",
      " --- --- ---\n",
      "|   |   |   |   \n",
      " --- --- ---\n",
      "|   |   |   |   \n",
      " --- --- ---\n"
     ]
    }
   ],
   "source": [
    "# Test solution\n",
    "game_board = draw_game_board(3,3)\n",
    "\n",
    "game_board"
   ]
  },
  {
   "cell_type": "markdown",
   "id": "b77a48aa",
   "metadata": {},
   "source": [
    "Exercise 3: Modify exercise 2, so that it takes a matrix of the form from exercise 1 and draws a tic-tac-tie board with \"X\"s and \"O\"s."
   ]
  },
  {
   "cell_type": "code",
   "execution_count": 5,
   "id": "b993d7de",
   "metadata": {},
   "outputs": [],
   "source": [
    "def make_game_board(board):\n",
    "    \n",
    "    n = len(board) # row \n",
    "    \n",
    "    m = len(board[0]) # column\n",
    "    \n",
    "    for i in range(n):\n",
    "        print(\" ---\" * m)\n",
    "        row_str = \"|\"\n",
    "        \n",
    "        for j in range(m):\n",
    "            \n",
    "            if board[i][j] == 1:\n",
    "                row_str += \" X |\"\n",
    "            \n",
    "            elif board[i][j] == 2:\n",
    "                row_str += \" O |\"\n",
    "            \n",
    "            else:\n",
    "                row_str += \"   |\"\n",
    "        \n",
    "        print(row_str)\n",
    "    \n",
    "    print(\" ---\" * m)"
   ]
  },
  {
   "cell_type": "code",
   "execution_count": 6,
   "id": "50d0835b",
   "metadata": {},
   "outputs": [
    {
     "name": "stdout",
     "output_type": "stream",
     "text": [
      " --- --- ---\n",
      "| O | X |   |\n",
      " --- --- ---\n",
      "| X | X | O |\n",
      " --- --- ---\n",
      "|   |   | O |\n",
      " --- --- ---\n"
     ]
    }
   ],
   "source": [
    "board = [\n",
    "    [2,1,0],\n",
    "    [1,1,2],\n",
    "    [0,0,2]\n",
    "]\n",
    "\n",
    "make_game_board(board)"
   ]
  },
  {
   "cell_type": "markdown",
   "id": "1c27610f",
   "metadata": {},
   "source": [
    "Exercise 4: Write a function that takes a n by n matrix representing a tic-tac-toe game, and returns -1, 0, 1, or 2 indicating the game is incomplete, the game is a draw, player 1 has won, or player 2 has one, respectively. Here are some example inputs you can use to test your code:"
   ]
  },
  {
   "cell_type": "code",
   "execution_count": 8,
   "id": "08897100",
   "metadata": {},
   "outputs": [],
   "source": [
    "def check_game_status(board):\n",
    "    \n",
    "    n = len(board)\n",
    "    \n",
    "    # check row\n",
    "    for i in range(n):\n",
    "        if all(board[i][j] == 1 for j in range(n)):\n",
    "          return 1\n",
    "        \n",
    "        elif all(board[i][j] == 2 for j in range(n)):\n",
    "          return 2\n",
    "    \n",
    "    # check column\n",
    "    for j in range(n):\n",
    "        if all(board[i][j] == 1 for i in range(n)):\n",
    "            return 1\n",
    "        elif all(board[i][j] == 2 for i in range(n)):\n",
    "            return 2\n",
    "    \n",
    "    # check diagonal ( from left to right):\n",
    "    if all(board[i][i] == 1 for i in range(n)):\n",
    "        return 1\n",
    "    elif all(board[i][i] == 2 for i in range(n)):\n",
    "        return 2\n",
    "\n",
    "    # check diagonal ( from right to left):\n",
    "    if all(board[i][n-1-i] == 1 for i in range(n)):\n",
    "      return 1\n",
    "    \n",
    "    elif all(board[i][n-1-i] == 2 for i in range(n)):\n",
    "      return 2\n",
    "    \n",
    "    # Check incomplete game\n",
    "    for i in range(n):\n",
    "      for j in range(n):\n",
    "        if board[i][j] == 0:\n",
    "          return -1\n",
    "    \n",
    "    # Check draw\n",
    "    return 0"
   ]
  },
  {
   "cell_type": "code",
   "execution_count": 9,
   "id": "99d8b9ed",
   "metadata": {},
   "outputs": [
    {
     "name": "stdout",
     "output_type": "stream",
     "text": [
      "2\n"
     ]
    }
   ],
   "source": [
    "winner_is_2 = [\n",
    "    [2, 2, 0],\n",
    "    [2, 1, 0],\n",
    "    [2, 1, 1]\n",
    "]\n",
    "\n",
    "print(check_game_status(winner_is_2))"
   ]
  },
  {
   "cell_type": "code",
   "execution_count": 10,
   "id": "8127d258",
   "metadata": {},
   "outputs": [
    {
     "name": "stdout",
     "output_type": "stream",
     "text": [
      "1\n"
     ]
    }
   ],
   "source": [
    "winner_is_1 = [\n",
    "    [1, 2, 0],\n",
    "    [2, 1, 0],\n",
    "    [2, 1, 1]\n",
    "]\n",
    "\n",
    "print(check_game_status(winner_is_1))"
   ]
  },
  {
   "cell_type": "code",
   "execution_count": 11,
   "id": "514c7392",
   "metadata": {},
   "outputs": [
    {
     "name": "stdout",
     "output_type": "stream",
     "text": [
      "-1\n"
     ]
    }
   ],
   "source": [
    "no_winner = [\n",
    "    [1, 2, 0],\n",
    "    [2, 1, 0],\n",
    "    [2, 1, 2]\n",
    "]\n",
    "\n",
    "print(check_game_status(no_winner))"
   ]
  },
  {
   "cell_type": "code",
   "execution_count": 12,
   "id": "7a60cada",
   "metadata": {},
   "outputs": [
    {
     "name": "stdout",
     "output_type": "stream",
     "text": [
      "1\n"
     ]
    }
   ],
   "source": [
    "both_draw = [\n",
    "    [1, 2, 1],\n",
    "    [2, 1, 2],\n",
    "    [1, 1, 2]\n",
    "]\n",
    "\n",
    "print(check_game_status(both_draw))"
   ]
  },
  {
   "cell_type": "markdown",
   "id": "a5cbc8d1",
   "metadata": {},
   "source": [
    "Exercise 5: Write a function that takes a game board, player number, and (x,y) coordinates and places \"X\" or \"O\" in the correct location of the game board. Make sure that you only allow filling previously empty locations. Return True or False to indicate successful placement of \"X\" or \"O\"."
   ]
  },
  {
   "cell_type": "code",
   "execution_count": 13,
   "id": "6721adef",
   "metadata": {},
   "outputs": [],
   "source": [
    "player_1 = 1\n",
    "player_2 = 2\n",
    "\n",
    "def place(board, player, x, y):\n",
    "  # Check if the location is on the board\n",
    "  if x < 0 or x >= len(board) or y < 0 or y >= len(board):\n",
    "    print('Invalid move')\n",
    "  \n",
    "  # Check if the spot is available or not\n",
    "  elif board[x][y] != 0:\n",
    "    print('Cannot tick')\n",
    "  \n",
    "  else:\n",
    "    if player == player_1:\n",
    "      board[x][y] = 'X'\n",
    "    \n",
    "    elif player == player_2:\n",
    "      board[x][y] = 'O'\n",
    "\n",
    "    else:\n",
    "      print('Invalid player')\n",
    "  \n",
    "  return board"
   ]
  },
  {
   "cell_type": "code",
   "execution_count": 14,
   "id": "947278ba",
   "metadata": {},
   "outputs": [
    {
     "name": "stdout",
     "output_type": "stream",
     "text": [
      "[[0, 0, 0], [0, 'O', 0], [0, 0, 0]]\n"
     ]
    }
   ],
   "source": [
    "board = [\n",
    "    [0, 0, 0],\n",
    "    [0, 0, 0],\n",
    "    [0, 0, 0]\n",
    "]\n",
    "\n",
    "placement1 = place(board, player_2, 1, 1)\n",
    "print(placement1)"
   ]
  },
  {
   "cell_type": "code",
   "execution_count": 15,
   "id": "7a917c67",
   "metadata": {},
   "outputs": [
    {
     "name": "stdout",
     "output_type": "stream",
     "text": [
      "[[0, 0, 0], ['X', 'O', 0], [0, 0, 0]]\n"
     ]
    }
   ],
   "source": [
    "placement2 = place(board, player_1, 1, 0)\n",
    "print(placement2)"
   ]
  },
  {
   "cell_type": "code",
   "execution_count": 16,
   "id": "4c86f260",
   "metadata": {},
   "outputs": [
    {
     "name": "stdout",
     "output_type": "stream",
     "text": [
      "Invalid move\n",
      "[[0, 0, 0], ['X', 'O', 0], [0, 0, 0]]\n"
     ]
    }
   ],
   "source": [
    "invalid_placement = place(board, player_1, 3, 3)\n",
    "print(invalid_placement)"
   ]
  },
  {
   "cell_type": "markdown",
   "id": "6550341c",
   "metadata": {},
   "source": [
    "Exercise 6: Modify Exercise 4 to show column and row labels so that players can specify location using \"A2\" or \"C1\"."
   ]
  },
  {
   "cell_type": "code",
   "execution_count": 17,
   "id": "2bb8361a",
   "metadata": {},
   "outputs": [],
   "source": [
    "def parse_location(pos):\n",
    "    \n",
    "    row_labels = {\"A\": 0, \"B\": 1, \"C\": 2}\n",
    "    col_labels = {\"1\": 0, \"2\": 1, \"3\": 2}\n",
    "    \n",
    "    row = row_labels[pos[0].upper()]\n",
    "    col = col_labels[pos[1]]\n",
    "    \n",
    "    return row, col\n",
    "\n",
    "def display_board_with_labels(board):\n",
    "\n",
    "    print(\"  1 2 3\")\n",
    "    row_labels = [\"A\", \"B\", \"C\"]\n",
    "    for i in range(len(board)):\n",
    "        print(f\"{row_labels[i]} {' '.join(str(cell) for cell in board[i])}\")\n"
   ]
  },
  {
   "cell_type": "code",
   "execution_count": 18,
   "id": "a89bae23",
   "metadata": {},
   "outputs": [
    {
     "data": {
      "text/plain": [
       "(1, 0)"
      ]
     },
     "execution_count": 18,
     "metadata": {},
     "output_type": "execute_result"
    }
   ],
   "source": [
    "parse_location(\"B1\")"
   ]
  },
  {
   "cell_type": "code",
   "execution_count": 19,
   "id": "84da7b87",
   "metadata": {},
   "outputs": [
    {
     "name": "stdout",
     "output_type": "stream",
     "text": [
      "  1 2 3\n",
      "A 0 0 0\n",
      "B 0 0 0\n",
      "C 0 0 0\n"
     ]
    }
   ],
   "source": [
    "board = [\n",
    "    [0, 0, 0],\n",
    "    [0, 0, 0],\n",
    "    [0, 0, 0],\n",
    "]\n",
    "\n",
    "display_board_with_labels(board)"
   ]
  },
  {
   "cell_type": "markdown",
   "id": "f795b23d",
   "metadata": {},
   "source": [
    "Exercise 7: Write a function that takes a board, player number, and location specified as in exercise 6 and then calls exercise 5 to correctly modify the board."
   ]
  },
  {
   "cell_type": "code",
   "execution_count": 20,
   "id": "bd89e8bd",
   "metadata": {},
   "outputs": [],
   "source": [
    "def place_with_location(board, player, location):\n",
    "    \n",
    "    x, y = parse_location(location)\n",
    "    \n",
    "    return place(board, player, x, y)\n",
    "\n",
    "player_1 = 1\n",
    "player_2 = 2\n",
    "\n",
    "def place(board, player, x, y):\n",
    "  # Check if the location is on the board\n",
    "  if x < 0 or x >= len(board) or y < 0 or y >= len(board):\n",
    "    print('Invalid move')\n",
    "  \n",
    "  # Check if the spot is available or not\n",
    "  elif board[x][y] != 0:\n",
    "    print('Cannot tick')\n",
    "  \n",
    "  else:\n",
    "    if player == player_1:\n",
    "      board[x][y] = 'X'\n",
    "    \n",
    "    elif player == player_2:\n",
    "      board[x][y] = 'O'\n",
    "\n",
    "    else:\n",
    "      print('Invalid player')\n",
    "  \n",
    "  return board\n",
    "\n",
    "def parse_location(pos):\n",
    "    \n",
    "    row_labels = {\"A\": 0, \"B\": 1, \"C\": 2}\n",
    "    col_labels = {\"1\": 0, \"2\": 1, \"3\": 2}\n",
    "    \n",
    "    row = row_labels[pos[0].upper()]\n",
    "    col = col_labels[pos[1]]\n",
    "    \n",
    "    return row, col\n",
    "\n",
    "def display_board_with_labels(board):\n",
    "\n",
    "    print(\"  1 2 3\")\n",
    "    row_labels = [\"A\", \"B\", \"C\"]\n",
    "    for i in range(len(board)):\n",
    "        print(f\"{row_labels[i]} {' '.join(str(cell) for cell in board[i])}\")"
   ]
  },
  {
   "cell_type": "code",
   "execution_count": 21,
   "id": "c92215fe",
   "metadata": {},
   "outputs": [],
   "source": [
    "board_0 = [\n",
    "    [0,0,0],\n",
    "    [0,0,0],\n",
    "    [0,0,0]\n",
    "]\n",
    "\n",
    "player = player_1\n",
    "location = \"B1\""
   ]
  },
  {
   "cell_type": "code",
   "execution_count": 22,
   "id": "b5ca4d6f",
   "metadata": {},
   "outputs": [
    {
     "name": "stdout",
     "output_type": "stream",
     "text": [
      "  1 2 3\n",
      "A 0 0 0\n",
      "B X 0 0\n",
      "C 0 0 0\n"
     ]
    }
   ],
   "source": [
    "new_board = place_with_location(board_0, player, location)\n",
    "display_board_with_labels(new_board)"
   ]
  },
  {
   "cell_type": "code",
   "execution_count": 23,
   "id": "a58f2cba",
   "metadata": {},
   "outputs": [
    {
     "name": "stdout",
     "output_type": "stream",
     "text": [
      "  1 2 3\n",
      "A 0 0 0\n",
      "B X 0 O\n",
      "C 0 0 0\n"
     ]
    }
   ],
   "source": [
    "player = player_2\n",
    "location = \"B3\"\n",
    "\n",
    "new_board = place_with_location(board_0, player, location)\n",
    "display_board_with_labels(new_board)"
   ]
  },
  {
   "cell_type": "code",
   "execution_count": 24,
   "id": "d0701c4c",
   "metadata": {},
   "outputs": [
    {
     "name": "stdout",
     "output_type": "stream",
     "text": [
      "Cannot tick\n",
      "  1 2 3\n",
      "A 0 0 0\n",
      "B X 0 O\n",
      "C 0 0 0\n"
     ]
    }
   ],
   "source": [
    "player = player_2\n",
    "location = \"B3\"\n",
    "\n",
    "new_board = place_with_location(board_0, player, location)\n",
    "display_board_with_labels(new_board)"
   ]
  },
  {
   "cell_type": "markdown",
   "id": "62159601",
   "metadata": {},
   "source": [
    "Exercise 8: Write a function is called with a board and player number, takes input from the player using python's input, and modifies the board using your function from exercise 7. Note that you should keep asking for input until you have gotten a valid input that results in a valid move."
   ]
  },
  {
   "cell_type": "code",
   "execution_count": 25,
   "id": "f3ab1ba3",
   "metadata": {},
   "outputs": [],
   "source": [
    "def player_move(board, player):\n",
    "    \n",
    "    while True:\n",
    "        location = input(f\"Player {player}, enter your move: \")\n",
    "        \n",
    "        try:\n",
    "            \n",
    "            x, y = parse_location(location)\n",
    "            \n",
    "            if 0 <= x < len(board) and 0 <= y < len(board):\n",
    "                if board[x][y] == 0:\n",
    "                    return place_with_location(board, player, location)\n",
    "                \n",
    "                else:\n",
    "                    print(\"Cannot tick. Try again\")\n",
    "            \n",
    "            else:\n",
    "                print(\"Invalid move. Please choose location on board\")\n",
    "        \n",
    "        except(KeyError, IndexError):\n",
    "            print(\"Invalid input\")\n",
    "\n",
    "def place_with_location(board, player, location):\n",
    "    \n",
    "    x, y = parse_location(location)\n",
    "    \n",
    "    return place(board, player, x, y)\n",
    "\n",
    "player_1 = 1\n",
    "player_2 = 2\n",
    "\n",
    "def place(board, player, x, y):\n",
    "  # Check if the location is on the board\n",
    "  if x < 0 or x >= len(board) or y < 0 or y >= len(board):\n",
    "    print('Invalid move')\n",
    "  \n",
    "  # Check if the spot is available or not\n",
    "  elif board[x][y] != 0:\n",
    "    print('Cannot tick')\n",
    "  \n",
    "  else:\n",
    "    if player == player_1:\n",
    "      board[x][y] = 'X'\n",
    "    \n",
    "    elif player == player_2:\n",
    "      board[x][y] = 'O'\n",
    "\n",
    "    else:\n",
    "      print('Invalid player')\n",
    "  \n",
    "  return board\n",
    "\n",
    "def parse_location(pos):\n",
    "    \n",
    "    row_labels = {\"A\": 0, \"B\": 1, \"C\": 2}\n",
    "    col_labels = {\"1\": 0, \"2\": 1, \"3\": 2}\n",
    "    \n",
    "    row = row_labels[pos[0].upper()]\n",
    "    col = col_labels[pos[1]]\n",
    "    \n",
    "    return row, col\n",
    "\n",
    "def display_board_with_labels(board):\n",
    "\n",
    "    print(\"  1 2 3\")\n",
    "    row_labels = [\"A\", \"B\", \"C\"]\n",
    "    for i in range(len(board)):\n",
    "        print(f\"{row_labels[i]} {' '.join(str(cell) for cell in board[i])}\")"
   ]
  },
  {
   "cell_type": "code",
   "execution_count": 26,
   "id": "faf3cc36",
   "metadata": {},
   "outputs": [
    {
     "name": "stdout",
     "output_type": "stream",
     "text": [
      "  1 2 3\n",
      "A 0 0 0\n",
      "B 0 0 0\n",
      "C 0 0 0\n"
     ]
    }
   ],
   "source": [
    "board_0 = [\n",
    "    [0,0,0],\n",
    "    [0,0,0],\n",
    "    [0,0,0]\n",
    "]\n",
    "\n",
    "display_board_with_labels(board_0)"
   ]
  },
  {
   "cell_type": "code",
   "execution_count": 27,
   "id": "11b9de2e",
   "metadata": {},
   "outputs": [
    {
     "name": "stdout",
     "output_type": "stream",
     "text": [
      "Player 1, enter your move: A1\n",
      "  1 2 3\n",
      "A X 0 0\n",
      "B 0 0 0\n",
      "C 0 0 0\n"
     ]
    }
   ],
   "source": [
    "updated_board_0 = player_move(board_0, player_1)\n",
    "display_board_with_labels(updated_board_0)"
   ]
  },
  {
   "cell_type": "code",
   "execution_count": 28,
   "id": "bf7ed97b",
   "metadata": {},
   "outputs": [
    {
     "name": "stdout",
     "output_type": "stream",
     "text": [
      "Player 2, enter your move: B2\n",
      "  1 2 3\n",
      "A X 0 0\n",
      "B 0 O 0\n",
      "C 0 0 0\n"
     ]
    }
   ],
   "source": [
    "updated_board_0 = player_move(board_0, player_2\n",
    "                             )\n",
    "display_board_with_labels(updated_board_0)"
   ]
  },
  {
   "cell_type": "code",
   "execution_count": 29,
   "id": "2b6216cb",
   "metadata": {},
   "outputs": [
    {
     "name": "stdout",
     "output_type": "stream",
     "text": [
      "Player 1, enter your move: 123\n",
      "Invalid input\n",
      "Player 1, enter your move: B1\n",
      "  1 2 3\n",
      "A X 0 0\n",
      "B X O 0\n",
      "C 0 0 0\n"
     ]
    }
   ],
   "source": [
    "updated_board_0 = player_move(board_0, player_1)\n",
    "display_board_with_labels(updated_board_0)"
   ]
  },
  {
   "cell_type": "markdown",
   "id": "8279adde",
   "metadata": {},
   "source": [
    "Exercise 9: Use all of the previous exercises to implement a full tic-tac-toe game, where an appropriate board is drawn, 2 players are repeatedly asked for a location coordinates of where they wish to place a mark, and the game status is checked until a player wins or a draw occurs."
   ]
  },
  {
   "cell_type": "code",
   "execution_count": 36,
   "id": "5dda8bd5",
   "metadata": {},
   "outputs": [
    {
     "name": "stdout",
     "output_type": "stream",
     "text": [
      "Welcome to Tic-Tac-Toe Game\n",
      " --- --- ---\n",
      "|   |   |   |\n",
      " --- --- ---\n",
      "|   |   |   |\n",
      " --- --- ---\n",
      "|   |   |   |\n",
      " --- --- ---\n",
      "Player 1, enter your move: A1\n",
      " --- --- ---\n",
      "| X |   |   |\n",
      " --- --- ---\n",
      "|   |   |   |\n",
      " --- --- ---\n",
      "|   |   |   |\n",
      " --- --- ---\n",
      "Player 2, enter your move: B2\n",
      " --- --- ---\n",
      "| X |   |   |\n",
      " --- --- ---\n",
      "|   | O |   |\n",
      " --- --- ---\n",
      "|   |   |   |\n",
      " --- --- ---\n",
      "Player 1, enter your move: C1\n",
      " --- --- ---\n",
      "| X |   |   |\n",
      " --- --- ---\n",
      "|   | O |   |\n",
      " --- --- ---\n",
      "| X |   |   |\n",
      " --- --- ---\n",
      "Player 2, enter your move: B1\n",
      " --- --- ---\n",
      "| X |   |   |\n",
      " --- --- ---\n",
      "| O | O |   |\n",
      " --- --- ---\n",
      "| X |   |   |\n",
      " --- --- ---\n",
      "Player 1, enter your move: B3\n",
      " --- --- ---\n",
      "| X |   |   |\n",
      " --- --- ---\n",
      "| O | O | X |\n",
      " --- --- ---\n",
      "| X |   |   |\n",
      " --- --- ---\n",
      "Player 2, enter your move: C2\n",
      " --- --- ---\n",
      "| X |   |   |\n",
      " --- --- ---\n",
      "| O | O | X |\n",
      " --- --- ---\n",
      "| X | O |   |\n",
      " --- --- ---\n",
      "Player 1, enter your move: A2\n",
      " --- --- ---\n",
      "| X | X |   |\n",
      " --- --- ---\n",
      "| O | O | X |\n",
      " --- --- ---\n",
      "| X | O |   |\n",
      " --- --- ---\n",
      "Player 2, enter your move: A3\n",
      " --- --- ---\n",
      "| X | X | O |\n",
      " --- --- ---\n",
      "| O | O | X |\n",
      " --- --- ---\n",
      "| X | O |   |\n",
      " --- --- ---\n",
      "Player 1, enter your move: C3\n",
      " --- --- ---\n",
      "| X | X | O |\n",
      " --- --- ---\n",
      "| O | O | X |\n",
      " --- --- ---\n",
      "| X | O | X |\n",
      " --- --- ---\n",
      "It's a draw\n"
     ]
    }
   ],
   "source": [
    "def tic_tac_toe_game():\n",
    "    print('Welcome to Tic-Tac-Toe Game')\n",
    "    \n",
    "    def create_board():\n",
    "        return [[0 for _ in range(3)] for _ in range(3)]\n",
    "\n",
    "    def make_game_board(board):\n",
    "        n = len(board)\n",
    "        m = len(board[0])\n",
    "        for i in range(n):\n",
    "            print(\" ---\" * m)\n",
    "            print(\"| \" + \" | \".join([' ' if cell == 0 else 'X' if cell == 1 else 'O' for cell in board[i]]) + \" |\")\n",
    "        print(\" ---\" * m)\n",
    "    \n",
    "    def check_game_status(board):\n",
    "        n = len(board)\n",
    "        \n",
    "        # Check rows\n",
    "        for i in range(n):\n",
    "            if all(board[i][j] == 1 for j in range(n)):\n",
    "                return 1\n",
    "            elif all(board[i][j] == 2 for j in range(n)):\n",
    "                return 2\n",
    "        \n",
    "        # Check columns\n",
    "        for j in range(n):\n",
    "            if all(board[i][j] == 1 for i in range(n)):\n",
    "                return 1\n",
    "            elif all(board[i][j] == 2 for i in range(n)):\n",
    "                return 2\n",
    "        \n",
    "        # Check diagonals (left to right)\n",
    "        if all(board[i][i] == 1 for i in range(n)):\n",
    "            return 1\n",
    "        elif all(board[i][i] == 2 for i in range(n)):\n",
    "            return 2\n",
    "        \n",
    "        # Check diagonals (right to left)\n",
    "        if all(board[i][n-1-i] == 1 for i in range(n)):\n",
    "            return 1\n",
    "        elif all(board[i][n-1-i] == 2 for i in range(n)):\n",
    "            return 2\n",
    "        \n",
    "        # Check for incomplete game\n",
    "        for i in range(n):\n",
    "            for j in range(n):\n",
    "                if board[i][j] == 0:\n",
    "                    return -1\n",
    "        \n",
    "        # Check for draw\n",
    "        return 0\n",
    "    \n",
    "    def parse_location(pos):\n",
    "        row_labels = {\"A\": 0, \"B\": 1, \"C\": 2}\n",
    "        col_labels = {\"1\": 0, \"2\": 1, \"3\": 2}\n",
    "        \n",
    "        row = row_labels[pos[0].upper()]\n",
    "        col = col_labels[pos[1]]\n",
    "        \n",
    "        return row, col\n",
    "    \n",
    "    def place(board, player, x, y):\n",
    "        # Check if the location is on the board\n",
    "        if x < 0 or x >= len(board) or y < 0 or y >= len(board):\n",
    "            print('Invalid move')\n",
    "            return board\n",
    "        \n",
    "        # Check if the spot is available\n",
    "        if board[x][y] != 0:\n",
    "            print('Cannot place here')\n",
    "            return board\n",
    "        \n",
    "        # Place the move\n",
    "        board[x][y] = player\n",
    "        return board\n",
    "    \n",
    "    def place_with_location(board, player, location):\n",
    "        x, y = parse_location(location)\n",
    "        return place(board, player, x, y)\n",
    "    \n",
    "    def player_move(board, player):\n",
    "        while True:\n",
    "            location = input(f\"Player {player}, enter your move: \")\n",
    "            try:\n",
    "                x, y = parse_location(location)\n",
    "                if 0 <= x < len(board) and 0 <= y < len(board):\n",
    "                    if board[x][y] == 0:\n",
    "                        return place_with_location(board, player, location)\n",
    "                    else:\n",
    "                        print(\"Cannot tick here\")\n",
    "                else:\n",
    "                    print(\"Invalid move\")\n",
    "            except (KeyError, IndexError):\n",
    "                print(\"Invalid input\")\n",
    "\n",
    "    # Start game\n",
    "    board = create_board()\n",
    "    current_player = 1\n",
    "    \n",
    "    while True:\n",
    "        make_game_board(board)\n",
    "        board = player_move(board, current_player)\n",
    "        status = check_game_status(board)\n",
    "\n",
    "        if status != -1:\n",
    "            make_game_board(board)\n",
    "            if status == 0:\n",
    "                print(\"It's a draw\")\n",
    "            else:\n",
    "                print(f\"Player {status}\")\n",
    "            break\n",
    "        \n",
    "        current_player = 3 - current_player\n",
    "\n",
    "tic_tac_toe_game()\n"
   ]
  },
  {
   "cell_type": "markdown",
   "id": "ef69d809",
   "metadata": {},
   "source": [
    "Exercise 10: Test that your game works for 5x5 Tic Tac Toe."
   ]
  },
  {
   "cell_type": "code",
   "execution_count": 41,
   "id": "a0244534",
   "metadata": {},
   "outputs": [
    {
     "name": "stdout",
     "output_type": "stream",
     "text": [
      "Welcome to Tic-Tac-Toe Game\n",
      " --- --- --- --- ---\n",
      "|   |   |   |   |   |\n",
      " --- --- --- --- ---\n",
      "|   |   |   |   |   |\n",
      " --- --- --- --- ---\n",
      "|   |   |   |   |   |\n",
      " --- --- --- --- ---\n",
      "|   |   |   |   |   |\n",
      " --- --- --- --- ---\n",
      "|   |   |   |   |   |\n",
      " --- --- --- --- ---\n",
      "Player 1, enter your move: A1\n",
      " --- --- --- --- ---\n",
      "| X |   |   |   |   |\n",
      " --- --- --- --- ---\n",
      "|   |   |   |   |   |\n",
      " --- --- --- --- ---\n",
      "|   |   |   |   |   |\n",
      " --- --- --- --- ---\n",
      "|   |   |   |   |   |\n",
      " --- --- --- --- ---\n",
      "|   |   |   |   |   |\n",
      " --- --- --- --- ---\n",
      "Player 2, enter your move: B2\n",
      " --- --- --- --- ---\n",
      "| X |   |   |   |   |\n",
      " --- --- --- --- ---\n",
      "|   | O |   |   |   |\n",
      " --- --- --- --- ---\n",
      "|   |   |   |   |   |\n",
      " --- --- --- --- ---\n",
      "|   |   |   |   |   |\n",
      " --- --- --- --- ---\n",
      "|   |   |   |   |   |\n",
      " --- --- --- --- ---\n",
      "Player 1, enter your move: C1\n",
      " --- --- --- --- ---\n",
      "| X |   |   |   |   |\n",
      " --- --- --- --- ---\n",
      "|   | O |   |   |   |\n",
      " --- --- --- --- ---\n",
      "| X |   |   |   |   |\n",
      " --- --- --- --- ---\n",
      "|   |   |   |   |   |\n",
      " --- --- --- --- ---\n",
      "|   |   |   |   |   |\n",
      " --- --- --- --- ---\n",
      "Player 2, enter your move: B1\n",
      " --- --- --- --- ---\n",
      "| X |   |   |   |   |\n",
      " --- --- --- --- ---\n",
      "| O | O |   |   |   |\n",
      " --- --- --- --- ---\n",
      "| X |   |   |   |   |\n",
      " --- --- --- --- ---\n",
      "|   |   |   |   |   |\n",
      " --- --- --- --- ---\n",
      "|   |   |   |   |   |\n",
      " --- --- --- --- ---\n",
      "Player 1, enter your move: D4\n",
      " --- --- --- --- ---\n",
      "| X |   |   |   |   |\n",
      " --- --- --- --- ---\n",
      "| O | O |   |   |   |\n",
      " --- --- --- --- ---\n",
      "| X |   |   |   |   |\n",
      " --- --- --- --- ---\n",
      "|   |   |   | X |   |\n",
      " --- --- --- --- ---\n",
      "|   |   |   |   |   |\n",
      " --- --- --- --- ---\n",
      "Player 2, enter your move: B3\n",
      " --- --- --- --- ---\n",
      "| X |   |   |   |   |\n",
      " --- --- --- --- ---\n",
      "| O | O | O |   |   |\n",
      " --- --- --- --- ---\n",
      "| X |   |   |   |   |\n",
      " --- --- --- --- ---\n",
      "|   |   |   | X |   |\n",
      " --- --- --- --- ---\n",
      "|   |   |   |   |   |\n",
      " --- --- --- --- ---\n",
      "Player 1, enter your move: E5\n",
      " --- --- --- --- ---\n",
      "| X |   |   |   |   |\n",
      " --- --- --- --- ---\n",
      "| O | O | O |   |   |\n",
      " --- --- --- --- ---\n",
      "| X |   |   |   |   |\n",
      " --- --- --- --- ---\n",
      "|   |   |   | X |   |\n",
      " --- --- --- --- ---\n",
      "|   |   |   |   | X |\n",
      " --- --- --- --- ---\n",
      "Player 2, enter your move: B4\n",
      " --- --- --- --- ---\n",
      "| X |   |   |   |   |\n",
      " --- --- --- --- ---\n",
      "| O | O | O | O |   |\n",
      " --- --- --- --- ---\n",
      "| X |   |   |   |   |\n",
      " --- --- --- --- ---\n",
      "|   |   |   | X |   |\n",
      " --- --- --- --- ---\n",
      "|   |   |   |   | X |\n",
      " --- --- --- --- ---\n",
      "Player 1, enter your move: D1\n",
      " --- --- --- --- ---\n",
      "| X |   |   |   |   |\n",
      " --- --- --- --- ---\n",
      "| O | O | O | O |   |\n",
      " --- --- --- --- ---\n",
      "| X |   |   |   |   |\n",
      " --- --- --- --- ---\n",
      "| X |   |   | X |   |\n",
      " --- --- --- --- ---\n",
      "|   |   |   |   | X |\n",
      " --- --- --- --- ---\n",
      "Player 2, enter your move: B5\n",
      " --- --- --- --- ---\n",
      "| X |   |   |   |   |\n",
      " --- --- --- --- ---\n",
      "| O | O | O | O | O |\n",
      " --- --- --- --- ---\n",
      "| X |   |   |   |   |\n",
      " --- --- --- --- ---\n",
      "| X |   |   | X |   |\n",
      " --- --- --- --- ---\n",
      "|   |   |   |   | X |\n",
      " --- --- --- --- ---\n",
      "Player 2 wins\n"
     ]
    }
   ],
   "source": [
    "def tic_tac_toe_game():\n",
    "    print('Welcome to Tic-Tac-Toe Game')\n",
    "    \n",
    "    def create_board():\n",
    "        return [[0 for _ in range(5)] for _ in range(5)]\n",
    "\n",
    "    def make_game_board(board):\n",
    "        n = len(board)\n",
    "        m = len(board[0])\n",
    "        for i in range(n):\n",
    "            print(\" ---\" * m)\n",
    "            print(\"| \" + \" | \".join([' ' if cell == 0 else 'X' if cell == 1 else 'O' for cell in board[i]]) + \" |\")\n",
    "        print(\" ---\" * m)\n",
    "    \n",
    "    def check_game_status(board):\n",
    "        n = len(board)\n",
    "        \n",
    "        # Check rows\n",
    "        for i in range(n):\n",
    "            if all(board[i][j] == 1 for j in range(n)):\n",
    "                return 1\n",
    "            elif all(board[i][j] == 2 for j in range(n)):\n",
    "                return 2\n",
    "        \n",
    "        # Check columns\n",
    "        for j in range(n):\n",
    "            if all(board[i][j] == 1 for i in range(n)):\n",
    "                return 1\n",
    "            elif all(board[i][j] == 2 for i in range(n)):\n",
    "                return 2\n",
    "        \n",
    "        # Check diagonals (left to right)\n",
    "        if all(board[i][i] == 1 for i in range(n)):\n",
    "            return 1\n",
    "        elif all(board[i][i] == 2 for i in range(n)):\n",
    "            return 2\n",
    "        \n",
    "        # Check diagonals (right to left)\n",
    "        if all(board[i][n-1-i] == 1 for i in range(n)):\n",
    "            return 1\n",
    "        elif all(board[i][n-1-i] == 2 for i in range(n)):\n",
    "            return 2\n",
    "        \n",
    "        # Check for incomplete game\n",
    "        for i in range(n):\n",
    "            for j in range(n):\n",
    "                if board[i][j] == 0:\n",
    "                    return -1\n",
    "        \n",
    "        # Check for draw\n",
    "        return 0\n",
    "    \n",
    "    def parse_location(pos):\n",
    "        row_labels = {\"A\": 0, \"B\": 1, \"C\": 2, \"D\": 3, \"E\": 4}\n",
    "        col_labels = {\"1\": 0, \"2\": 1, \"3\": 2, \"4\": 3, \"5\": 4}\n",
    "        \n",
    "        row = row_labels[pos[0].upper()]\n",
    "        col = col_labels[pos[1]]\n",
    "        \n",
    "        return row, col\n",
    "    \n",
    "    def place(board, player, x, y):\n",
    "        # Check if the location is on the board\n",
    "        if x < 0 or x >= len(board) or y < 0 or y >= len(board):\n",
    "            print('Invalid move')\n",
    "            return board\n",
    "        \n",
    "        # Check if the spot is available\n",
    "        if board[x][y] != 0:\n",
    "            print('Cannot place here')\n",
    "            return board\n",
    "        \n",
    "        # Place the move\n",
    "        board[x][y] = player\n",
    "        return board\n",
    "    \n",
    "    def place_with_location(board, player, location):\n",
    "        x, y = parse_location(location)\n",
    "        return place(board, player, x, y)\n",
    "    \n",
    "    def player_move(board, player):\n",
    "        while True:\n",
    "            location = input(f\"Player {player}, enter your move: \")\n",
    "            try:\n",
    "                x, y = parse_location(location)\n",
    "                if 0 <= x < len(board) and 0 <= y < len(board):\n",
    "                    if board[x][y] == 0:\n",
    "                        return place_with_location(board, player, location)\n",
    "                    else:\n",
    "                        print(\"Cannot tick here\")\n",
    "                else:\n",
    "                    print(\"Invalid move\")\n",
    "            except (KeyError, IndexError):\n",
    "                print(\"Invalid input\")\n",
    "\n",
    "    # Start game\n",
    "    board = create_board()\n",
    "    current_player = 1\n",
    "    \n",
    "    while True:\n",
    "        make_game_board(board)\n",
    "        board = player_move(board, current_player)\n",
    "        status = check_game_status(board)\n",
    "\n",
    "        if status != -1:\n",
    "            make_game_board(board)\n",
    "            if status == 0:\n",
    "                print(\"It's a draw\")\n",
    "            else:\n",
    "                print(f\"Player {status} wins\")\n",
    "            break\n",
    "        \n",
    "        current_player = 3 - current_player\n",
    "\n",
    "tic_tac_toe_game()"
   ]
  },
  {
   "cell_type": "markdown",
   "id": "859a0053",
   "metadata": {},
   "source": [
    "Exercise 11: (Advanced / Challenge) Develop a version of the game where one player is the computer. Note that you don't need to do an extensive seach for the best move. You can have the computer simply protect against loosing and otherwise try to win with straight or diagonal patterns."
   ]
  },
  {
   "cell_type": "code",
   "execution_count": null,
   "id": "44ef621b",
   "metadata": {},
   "outputs": [],
   "source": []
  }
 ],
 "metadata": {
  "kernelspec": {
   "display_name": "Python 3 (ipykernel)",
   "language": "python",
   "name": "python3"
  },
  "language_info": {
   "codemirror_mode": {
    "name": "ipython",
    "version": 3
   },
   "file_extension": ".py",
   "mimetype": "text/x-python",
   "name": "python",
   "nbconvert_exporter": "python",
   "pygments_lexer": "ipython3",
   "version": "3.12.3"
  }
 },
 "nbformat": 4,
 "nbformat_minor": 5
}
