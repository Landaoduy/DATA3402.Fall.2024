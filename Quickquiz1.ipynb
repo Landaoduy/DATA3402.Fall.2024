{
 "cells": [
  {
   "cell_type": "markdown",
   "id": "aa510a3e",
   "metadata": {},
   "source": [
    "## **Quick Quiz**"
   ]
  },
  {
   "cell_type": "markdown",
   "id": "d266e804",
   "metadata": {},
   "source": [
    "Can you rewrite create_new_args as a two lines of code using functional programming, list comprehensions, and shortcuts? How about a single line?"
   ]
  },
  {
   "cell_type": "code",
   "execution_count": null,
   "id": "216de031",
   "metadata": {},
   "outputs": [],
   "source": [
    "# Original function:\n",
    "def create_new_args_0(args):\n",
    "    max_len = max(map(len,\n",
    "                      filter(lambda x: isinstance(x,list),\n",
    "                        args)))\n",
    "\n",
    "    # Rewrite this section:\n",
    "    new_args=list()\n",
    "\n",
    "    for a in args:\n",
    "        if not isinstance(a,list):\n",
    "            a0=[a]*max_len\n",
    "        elif len(a)!=max_len:\n",
    "            print(\"Error: all list arguments must have same length.\")\n",
    "            return\n",
    "        else:\n",
    "            a0=a\n",
    "        new_args.append(a0)\n",
    "\n",
    "    return new_args"
   ]
  },
  {
   "cell_type": "code",
   "execution_count": 1,
   "id": "6d8a7654",
   "metadata": {},
   "outputs": [],
   "source": [
    "# Written in 2 lines\n",
    "\n",
    "def create_new_args_0(args):\n",
    "    \n",
    "    max_len = max(map(len, filter(lambda x: isinstance(x,list), args)))\n",
    "    \n",
    "    return [ [a]*max_len if not isinstance(a, list) else a if len(a)==max_len else None for a in args]"
   ]
  },
  {
   "cell_type": "code",
   "execution_count": 2,
   "id": "1554bbc5",
   "metadata": {},
   "outputs": [
    {
     "data": {
      "text/plain": [
       "[[1, 2], [3, 4], [5, 5]]"
      ]
     },
     "execution_count": 2,
     "metadata": {},
     "output_type": "execute_result"
    }
   ],
   "source": [
    "create_new_args_0([[1,2],[3,4],5])"
   ]
  },
  {
   "cell_type": "code",
   "execution_count": 3,
   "id": "7b77b7d1",
   "metadata": {},
   "outputs": [
    {
     "data": {
      "text/plain": [
       "[None, [3, 4, 5], [5, 5, 5]]"
      ]
     },
     "execution_count": 3,
     "metadata": {},
     "output_type": "execute_result"
    }
   ],
   "source": [
    "create_new_args_0([[1,2],[3,4,5],5])"
   ]
  }
 ],
 "metadata": {
  "kernelspec": {
   "display_name": "Python 3 (ipykernel)",
   "language": "python",
   "name": "python3"
  },
  "language_info": {
   "codemirror_mode": {
    "name": "ipython",
    "version": 3
   },
   "file_extension": ".py",
   "mimetype": "text/x-python",
   "name": "python",
   "nbconvert_exporter": "python",
   "pygments_lexer": "ipython3",
   "version": "3.12.3"
  }
 },
 "nbformat": 4,
 "nbformat_minor": 5
}
