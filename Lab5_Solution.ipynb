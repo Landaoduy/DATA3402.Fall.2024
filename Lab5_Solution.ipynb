{
 "cells": [
  {
   "cell_type": "markdown",
   "id": "2e38893a",
   "metadata": {},
   "source": [
    "## Matrix Representation: In this lab you will be creating a simple linear algebra system. In memory, we will represent matrices as nested python lists as we have done in lecture. In the exercises below, you are required to explicitly test every feature you implement, demonstrating it works."
   ]
  },
  {
   "cell_type": "markdown",
   "id": "65812d6c",
   "metadata": {},
   "source": [
    "1. Create a `matrix` class with the following properties:\n",
    "\n",
    "* It can be initialized in 2 ways:\n",
    "\n",
    "  1. with arguments `n` and `m`, the size of the matrix. A newly instanciated matrix will contain all zeros.\n",
    "  2. with a list of lists of values. Note that since we are using lists of lists to implement matrices, it is possible that not all rows have the same number of columns. Test explicitly that the matrix is properly specified.\\n\",\n",
    "\n",
    "* Matrix instances `M` can be indexed with `M[i][j]` and `M[i,j]`\n",
    "\n",
    "* Matrix assignment works in 2 ways:\n",
    "\n",
    "  1. If `M_1` and `M_2` are `matrix` instances `M_1=M_2` sets the values of `M_1` to those of `M_2`, if they are the same size.Error otherwise\n",
    "  2. In example above `M_2` can be a list of lists of correct size.\\n\""
   ]
  },
  {
   "cell_type": "markdown",
   "id": "f5706604",
   "metadata": {},
   "source": [
    "2. Add the following methods:\n",
    "\n",
    "    * shape(): returns a tuple (n,m) of the shape of the matrix.\n",
    "    * transpose(): returns a new matrix instance which is the transpose of the matrix.\n",
    "    * row(n) and column(n): that return the nth row or column of the matrix M as a new appropriately shaped matrix object.\n",
    "    * to_list(): which returns the matrix as a list of lists.\n",
    "    * block(n_0,n_1,m_0,m_1) that returns a smaller matrix located at the n_0 to n_1 columns and m_0 to m_1 rows.\n",
    "\n",
    "    * (Extra credit) Modify __getitem__ implemented above to support slicing."
   ]
  },
  {
   "cell_type": "code",
   "execution_count": 12,
   "id": "a3593b84",
   "metadata": {},
   "outputs": [],
   "source": [
    "class Matrix:\n",
    "    def __init__(self, n=None, m=None, values=None):\n",
    "        # Initialize with zero matrix or list of lists\n",
    "        if n is not None and m is not None:\n",
    "            self.matrix = self.zero_matrix(n, m)\n",
    "        elif values is not None:\n",
    "            if self.is_matrix(values):\n",
    "                self.matrix = values\n",
    "            else:\n",
    "                raise ValueError(\"All rows must have the same number of columns.\")\n",
    "        else:\n",
    "            raise ValueError(\"Provide matrix dimensions or list of values.\")\n",
    "    \n",
    "    def zero_matrix(self, n, m):\n",
    "        matrix = []\n",
    "        for i in range(n):\n",
    "            matrix.append([])\n",
    "            for j in range(m):\n",
    "                matrix[i].append(0)\n",
    "        return matrix\n",
    "\n",
    "    def is_matrix(self, M):\n",
    "        if isinstance(M, list):\n",
    "            row_length = len(M[0])\n",
    "            for row in M:\n",
    "                if len(row) != row_length:\n",
    "                    return False\n",
    "            return True\n",
    "        return False\n",
    "\n",
    "    def __getitem__(self, key):\n",
    "        \"\"\"Allows indexing with M[i][j] or M[i,j].\"\"\"\n",
    "        if isinstance(key, tuple):\n",
    "            i, j = key\n",
    "            return self.matrix[i][j]\n",
    "        return self.matrix[key]\n",
    "\n",
    "    def __setitem__(self, key, value):\n",
    "        \"\"\"Allows setting values with M[i][j] or M[i,j].\"\"\"\n",
    "        if isinstance(key, tuple):\n",
    "            i, j = key\n",
    "            self.matrix[i][j] = value\n",
    "        else:\n",
    "            self.matrix[key] = value\n",
    "\n",
    "    def assign(self, other):\n",
    "        if isinstance(other, Matrix):\n",
    "            if len(self.matrix) == len(other.matrix) and len(self.matrix[0]) == len(other.matrix[0]):\n",
    "                self.matrix = [row[:] for row in other.matrix]\n",
    "            else:\n",
    "                raise ValueError(\"Matrices must be the same size for assignment.\")\n",
    "        elif self.is_matrix(other) and len(self.matrix) == len(other) and len(self.matrix[0]) == len(other[0]):\n",
    "            self.matrix = [row[:] for row in other]\n",
    "        else:\n",
    "            raise ValueError(\"Assignment requires matrices of the same size.\")\n",
    "    \n",
    "    def get_shape(self):\n",
    "        if self.is_matrix(self.matrix):\n",
    "            m = len(self.matrix)\n",
    "            n = len(self.matrix[0])\n",
    "            return m, n\n",
    "        \n",
    "        else:\n",
    "            return 0, 0\n",
    "    \n",
    "    def get_row(self, index):\n",
    "        if self.is_matrix(self.matrix):\n",
    "            return self.matrix[index]\n",
    "    \n",
    "    def get_column(self, index):\n",
    "        if self.is_matrix(self.matrix):\n",
    "            return [row[index] for row in self.matrix]\n",
    "    \n",
    "    def transpose(self):\n",
    "        transposed = [[self.matrix[j][i] for j in range(len(self.matrix))] for i in range(len(self.matrix[0]))]\n",
    "\n",
    "        return Matrix(values=transposed)\n",
    "    \n",
    "    def to_list(self):\n",
    "        return self.matrix\n",
    "    \n",
    "    def block(self, n_0, n_1, m_0, m_1):\n",
    "        if n_0 < 0 or n_1 > len(self.matrix) or m_0 < 0 or m_1 > len(self.matrix[0]):\n",
    "            raise ValueError(\"Invalid block indices\")\n",
    "        \n",
    "        else: \n",
    "            return [row[m_0:m_1] for row in self.matrix[n_0:n_1]]"
   ]
  },
  {
   "cell_type": "code",
   "execution_count": 23,
   "id": "b527e28f",
   "metadata": {},
   "outputs": [
    {
     "data": {
      "text/plain": [
       "[[0, 0, 0], [0, 0, 0]]"
      ]
     },
     "execution_count": 23,
     "metadata": {},
     "output_type": "execute_result"
    }
   ],
   "source": [
    "matrix = Matrix(2,3)\n",
    "\n",
    "matrix.zero_matrix(2,3)"
   ]
  },
  {
   "cell_type": "code",
   "execution_count": 24,
   "id": "0af14e73",
   "metadata": {},
   "outputs": [
    {
     "name": "stdout",
     "output_type": "stream",
     "text": [
      "True\n",
      "False\n"
     ]
    }
   ],
   "source": [
    "M1 = [[1,2,3],[4,5,6]]\n",
    "M2 = [[1,2,3],[5,6],[6]]\n",
    "\n",
    "print(matrix.is_matrix(M1))\n",
    "print(matrix.is_matrix(M2))"
   ]
  },
  {
   "cell_type": "code",
   "execution_count": 25,
   "id": "35b70d69",
   "metadata": {},
   "outputs": [
    {
     "name": "stdout",
     "output_type": "stream",
     "text": [
      "2\n",
      "9\n"
     ]
    }
   ],
   "source": [
    "M1 = Matrix(2, 3)  \n",
    "M2 = Matrix(values=[[1, 2, 3], [4, 5, 6]])  \n",
    "M1.assign(M2)  \n",
    "print(M1[0, 1])  \n",
    "M1[0, 2] = 9  \n",
    "print(M1[0][2])"
   ]
  },
  {
   "cell_type": "code",
   "execution_count": 33,
   "id": "14c587a9",
   "metadata": {},
   "outputs": [
    {
     "name": "stdout",
     "output_type": "stream",
     "text": [
      "(2, 3)\n"
     ]
    }
   ],
   "source": [
    "M2 = Matrix(values=[[1, 2, 3], [4, 5, 6]])\n",
    "print(M2.get_shape()) "
   ]
  },
  {
   "cell_type": "code",
   "execution_count": 3,
   "id": "45605136",
   "metadata": {},
   "outputs": [
    {
     "name": "stdout",
     "output_type": "stream",
     "text": [
      "[10, 11, 12]\n",
      "[9, 12]\n"
     ]
    }
   ],
   "source": [
    "M3 = Matrix(values=[[7,8,9], [10,11,12]])\n",
    "print(M3.get_row(1))\n",
    "print(M3.get_column(2))"
   ]
  },
  {
   "cell_type": "code",
   "execution_count": 9,
   "id": "33447d3e",
   "metadata": {},
   "outputs": [
    {
     "name": "stdout",
     "output_type": "stream",
     "text": [
      "[[1, 4, 7], [2, 5, 8], [3, 6, 9]]\n"
     ]
    }
   ],
   "source": [
    "M1 = Matrix(values = [[1,2,3],[4,5,6],[7,8,9]])\n",
    "\n",
    "print(M1.transpose().matrix)"
   ]
  },
  {
   "cell_type": "code",
   "execution_count": 11,
   "id": "720b71f0",
   "metadata": {},
   "outputs": [
    {
     "name": "stdout",
     "output_type": "stream",
     "text": [
      "[[1, 2, 3], [4, 5, 6], [7, 8, 9]]\n"
     ]
    }
   ],
   "source": [
    "M1 = Matrix(values = [[1,2,3],[4,5,6],[7,8,9]])\n",
    "\n",
    "print(M1.to_list())"
   ]
  },
  {
   "cell_type": "code",
   "execution_count": 13,
   "id": "a5959548",
   "metadata": {},
   "outputs": [
    {
     "name": "stdout",
     "output_type": "stream",
     "text": [
      "[[2, 3], [5, 6], [8, 9]]\n"
     ]
    }
   ],
   "source": [
    "M3 = Matrix(values = [[1, 2, 3], [4, 5, 6], [7, 8, 9]])\n",
    "sub_matrix = M3.block(0, 3, 1, 3)\n",
    "print(sub_matrix)"
   ]
  },
  {
   "cell_type": "markdown",
   "id": "48f7522a",
   "metadata": {},
   "source": [
    "3. Write functions that create special matrices (note these are standalone functions, not member functions of your matrix class):\n",
    "\n",
    "    * constant(n,m,c): returns a n by m matrix filled with floats of value c.\n",
    "    * zeros(n,m) and ones(n,m): return n by m matrices filled with floats of value 0 and 1, respectively.\n",
    "    * eye(n): returns the n by n identity matrix."
   ]
  },
  {
   "cell_type": "code",
   "execution_count": 30,
   "id": "d769bc3c",
   "metadata": {},
   "outputs": [],
   "source": [
    "class Special_Matrix():\n",
    "    \n",
    "    def create_matrix(self, n, m, value):\n",
    "        matrix = []\n",
    "        for i in range(n):\n",
    "            matrix.append([])\n",
    "            for j in range(m):\n",
    "                matrix[i].append(value)\n",
    "        return matrix\n",
    "    \n",
    "    def zero_matrix(self, n, m):\n",
    "        return self.create_matrix(n,m,0)\n",
    "    \n",
    "    def one_matrix(self, n, m):\n",
    "        return self.create_matrix(n,m,1)\n",
    "    \n",
    "    def eye(self, n):\n",
    "        matrix = []\n",
    "        for i in range(n):\n",
    "            matrix.append([])\n",
    "            for j in range(n):\n",
    "                if i == j:\n",
    "                    matrix[i].append(1)\n",
    "                else:\n",
    "                    matrix[i].append(0)\n",
    "        return matrix"
   ]
  },
  {
   "cell_type": "code",
   "execution_count": 15,
   "id": "45511292",
   "metadata": {},
   "outputs": [
    {
     "data": {
      "text/plain": [
       "[[4, 4], [4, 4]]"
      ]
     },
     "execution_count": 15,
     "metadata": {},
     "output_type": "execute_result"
    }
   ],
   "source": [
    "special_matrix = Special_Matrix()\n",
    "special_matrix.create_matrix(2, 2, 4)"
   ]
  },
  {
   "cell_type": "code",
   "execution_count": 16,
   "id": "e6ba6ff1",
   "metadata": {},
   "outputs": [
    {
     "data": {
      "text/plain": [
       "[[1, 1], [1, 1]]"
      ]
     },
     "execution_count": 16,
     "metadata": {},
     "output_type": "execute_result"
    }
   ],
   "source": [
    "special_matrix.one_matrix(2, 2)"
   ]
  },
  {
   "cell_type": "code",
   "execution_count": 17,
   "id": "3fae1777",
   "metadata": {},
   "outputs": [
    {
     "data": {
      "text/plain": [
       "[[0, 0, 0], [0, 0, 0], [0, 0, 0]]"
      ]
     },
     "execution_count": 17,
     "metadata": {},
     "output_type": "execute_result"
    }
   ],
   "source": [
    "special_matrix.zero_matrix(3,3)"
   ]
  },
  {
   "cell_type": "code",
   "execution_count": 31,
   "id": "b18de483",
   "metadata": {},
   "outputs": [
    {
     "data": {
      "text/plain": [
       "[[1, 0, 0, 0], [0, 1, 0, 0], [0, 0, 1, 0], [0, 0, 0, 1]]"
      ]
     },
     "execution_count": 31,
     "metadata": {},
     "output_type": "execute_result"
    }
   ],
   "source": [
    "new_matrix = Special_Matrix()\n",
    "new_matrix.eye(4)"
   ]
  },
  {
   "cell_type": "markdown",
   "id": "ce3190fd",
   "metadata": {},
   "source": [
    "4. Add the following member functions to your class. Make sure to appropriately test the dimensions of the matrices to make sure the operations are correct.\n",
    "\n",
    "    * `M.scalarmul(c)`: a matrix that is scalar product $cM$, where every element of $M$ is multiplied by $c$.\n",
    "    * `M.add(N)`: adds two matrices $M$ and $N$. Don’t forget to test that the sizes of the matrices are compatible for this and all other operations.\n",
    "    * `M.sub(N)`: subtracts two matrices $M$ and $N$.\n",
    "    * `M.mat_mult(N)`: returns a matrix that is the matrix product of two matrices $M$ and $N$.\n",
    "    * `M.element_mult(N)`: returns a matrix that is the element-wise product of two matrices $M$ and $N$.\n",
    "    * `M.equals(N)`: returns true/false if $M==N$."
   ]
  },
  {
   "cell_type": "markdown",
   "id": "95dbced4",
   "metadata": {},
   "source": [
    "5. Overload python operators to appropriately use your functions in 4 and allow expressions like:\n",
    "    * 2*M\n",
    "    * M*2\n",
    "    * M+N\n",
    "    * M-N\n",
    "    * M*N\n",
    "    * M==N\n",
    "    * M=N"
   ]
  },
  {
   "cell_type": "code",
   "execution_count": 10,
   "id": "7671266a",
   "metadata": {},
   "outputs": [],
   "source": [
    "class Matrix:\n",
    "    def __init__(self, n=None, m=None, values=None):\n",
    "        # Initialize with zero matrix or list of lists\n",
    "        if n is not None and m is not None:\n",
    "            self.matrix = self.zero_matrix(n, m)\n",
    "        elif values is not None:\n",
    "            if self.is_matrix(values):\n",
    "                self.matrix = values\n",
    "            else:\n",
    "                raise ValueError(\"All rows must have the same number of columns.\")\n",
    "        else:\n",
    "            raise ValueError(\"Provide matrix dimensions or list of values.\")\n",
    "    \n",
    "    def zero_matrix(self, n, m):\n",
    "        matrix = []\n",
    "        for i in range(n):\n",
    "            matrix.append([])\n",
    "            for j in range(m):\n",
    "                matrix[i].append(0)\n",
    "        return matrix\n",
    "\n",
    "    def is_matrix(self, M):\n",
    "        if isinstance(M, list):\n",
    "            row_length = len(M[0])\n",
    "            for row in M:\n",
    "                if len(row) != row_length:\n",
    "                    return False\n",
    "            return True\n",
    "        return False\n",
    "\n",
    "    def __getitem__(self, key):\n",
    "        \"\"\"Allows indexing with M[i][j] or M[i,j].\"\"\"\n",
    "        if isinstance(key, tuple):\n",
    "            i, j = key\n",
    "            return self.matrix[i][j]\n",
    "        return self.matrix[key]\n",
    "\n",
    "    def __setitem__(self, key, value):\n",
    "        \"\"\"Allows setting values with M[i][j] or M[i,j].\"\"\"\n",
    "        if isinstance(key, tuple):\n",
    "            i, j = key\n",
    "            self.matrix[i][j] = value\n",
    "        else:\n",
    "            self.matrix[key] = value\n",
    "\n",
    "    def assign(self, other):\n",
    "        if isinstance(other, Matrix):\n",
    "            if len(self.matrix) == len(other.matrix) and len(self.matrix[0]) == len(other.matrix[0]):\n",
    "                self.matrix = [row[:] for row in other.matrix]\n",
    "            else:\n",
    "                raise ValueError(\"Matrices must be the same size for assignment.\")\n",
    "        elif self.is_matrix(other) and len(self.matrix) == len(other) and len(self.matrix[0]) == len(other[0]):\n",
    "            self.matrix = [row[:] for row in other]\n",
    "        else:\n",
    "            raise ValueError(\"Assignment requires matrices of the same size.\")\n",
    "    \n",
    "    def get_shape(self):\n",
    "        if self.is_matrix(self.matrix):\n",
    "            m = len(self.matrix)\n",
    "            n = len(self.matrix[0])\n",
    "            return m, n\n",
    "        \n",
    "        else:\n",
    "            return 0, 0\n",
    "    \n",
    "    def get_row(self, index):\n",
    "        if self.is_matrix(self.matrix):\n",
    "            return self.matrix[index]\n",
    "    \n",
    "    def get_column(self, index):\n",
    "        if self.is_matrix(self.matrix):\n",
    "            return [row[index] for row in self.matrix]\n",
    "    \n",
    "    def transpose(self):\n",
    "        transposed = [[self.matrix[j][i] for j in range(len(self.matrix))] for i in range(len(self.matrix[0]))]\n",
    "\n",
    "        return Matrix(values=transposed)\n",
    "    \n",
    "    def to_list(self):\n",
    "        return self.matrix\n",
    "    \n",
    "    def block(self, n_0, n_1, m_0, m_1):\n",
    "        if n_0 < 0 or n_1 > len(self.matrix) or m_0 < 0 or m_1 > len(self.matrix[0]):\n",
    "            raise ValueError(\"Invalid block indices\")\n",
    "        \n",
    "        else: \n",
    "            return [row[m_0:m_1] for row in self.matrix[n_0:n_1]]\n",
    "        \n",
    "    def scalar_multiplication(self, scalar):\n",
    "        return Matrix(values=[[scalar * self.matrix[i][j] for j in range(len(self.matrix[0]))] for i in range(len(self.matrix))])\n",
    "    \n",
    "    def add_matrix(self, other):\n",
    "        \n",
    "        if isinstance(other, Matrix):\n",
    "            if len(self.matrix) == len(other.matrix) and len(self.matrix[0]) == len(other.matrix[0]):\n",
    "                \n",
    "                result = [[self.matrix[i][j] + other.matrix[i][j] for j in range(len(self.matrix[0]))] for i in range(len(self.matrix))]\n",
    "\n",
    "                return Matrix(values=result)\n",
    "        \n",
    "            else:\n",
    "                raise ValueError(\"Matrices must be the same sizes\")\n",
    "      \n",
    "        else:\n",
    "            raise ValueError(\"Invalid input\")\n",
    "    \n",
    "    def subtract_matrix(self, other):\n",
    "        \n",
    "        if isinstance(other, Matrix):\n",
    "            if len(self.matrix) == len(other.matrix) and len(self.matrix[0]) == len(other.matrix[0]):\n",
    "                \n",
    "                result = [[self.matrix[i][j] - other.matrix[i][j] for j in range(len(self.matrix[0]))] for i in range(len(self.matrix))]\n",
    "\n",
    "                return Matrix(values=result)\n",
    "        \n",
    "            else:\n",
    "                raise ValueError(\"Matrices must be the same sizes\")\n",
    "      \n",
    "        else:\n",
    "            raise ValueError(\"Invalid input\")\n",
    "    \n",
    "    def matrix_multiplication(self, other):\n",
    "        if isinstance(other, Matrix):\n",
    "            if len(self.matrix[0]) == len(other.matrix):\n",
    "                # initialize the result matrix with zeros\n",
    "                result = [[0 for _ in range(len(other.matrix[0]))] for _ in range(len(self.matrix))]\n",
    "\n",
    "                #perform the matrix multiplication\n",
    "                for i in range(len(self.matrix)):\n",
    "                    for j in range(len(other.matrix[0])):\n",
    "                        for k in range(len(other.matrix)):\n",
    "                            result[i][j] += self.matrix[i][k] * other.matrix[k][j]\n",
    "        \n",
    "                return Matrix(values = result)\n",
    "\n",
    "            else:\n",
    "                raise ValueError(\"Number of columns in the first matrix must equal to the number of rows in the second matrix\")\n",
    "      \n",
    "        else:\n",
    "            raise ValueError(\"Invalid input\")\n",
    "            \n",
    "    def elementwise_multiplication(self, other):\n",
    "        if isinstance(other, Matrix):\n",
    "            if len(self.matrix) == len(other.matrix) and len(self.matrix[0]) == len(other.matrix[0]):\n",
    "                \n",
    "                result = [[self.matrix[i][j] * other.matrix[i][j] for j in range(len(self.matrix[0]))] for i in range(len(self.matrix))]\n",
    "\n",
    "                return Matrix(values = result)\n",
    "        \n",
    "            else:\n",
    "                raise ValueError(\"Matrices must be the same sizes\")\n",
    "      \n",
    "        else:\n",
    "            raise ValueError(\"Invalid input\")\n",
    "    \n",
    "    def equal_matrix(self, other):\n",
    "        if isinstance(other, Matrix):\n",
    "            if len(self.matrix) == len(other.matrix) and len(self.matrix[0]) == len(other.matrix[0]):\n",
    "                for i in range(len(self.matrix)):\n",
    "                    for j in range(len(self.matrix[0])):\n",
    "                        if self.matrix[i][j] != other.matrix[i][j]:\n",
    "                            return False\n",
    "                        \n",
    "                return True"
   ]
  },
  {
   "cell_type": "code",
   "execution_count": 11,
   "id": "81573a31",
   "metadata": {},
   "outputs": [
    {
     "name": "stdout",
     "output_type": "stream",
     "text": [
      "[[2, 4, 6], [8, 10, 12], [14, 16, 18]]\n"
     ]
    }
   ],
   "source": [
    "matrix = Matrix(values = [[1,2,3],[4,5,6],[7,8,9]])\n",
    "\n",
    "print(matrix.scalar_multiplication(2).matrix)"
   ]
  },
  {
   "cell_type": "code",
   "execution_count": 12,
   "id": "0d0946ce",
   "metadata": {},
   "outputs": [
    {
     "name": "stdout",
     "output_type": "stream",
     "text": [
      "[[1, 3, 5], [7, 9, 11]]\n"
     ]
    }
   ],
   "source": [
    "m1 = Matrix(values = [[1,2,3],[4,5,6]])\n",
    "m2 = Matrix(values = [[0,1,2],[3,4,5]])\n",
    "\n",
    "print(m1.add_matrix(m2).matrix)"
   ]
  },
  {
   "cell_type": "code",
   "execution_count": 13,
   "id": "a15c5664",
   "metadata": {},
   "outputs": [
    {
     "name": "stdout",
     "output_type": "stream",
     "text": [
      "[[1, 1, 1], [1, 1, 1]]\n"
     ]
    }
   ],
   "source": [
    "m1 = Matrix(values = [[1,2,3],[4,5,6]])\n",
    "m2 = Matrix(values = [[0,1,2],[3,4,5]])\n",
    "\n",
    "print(m1.subtract_matrix(m2).matrix)"
   ]
  },
  {
   "cell_type": "code",
   "execution_count": 14,
   "id": "c260b755",
   "metadata": {},
   "outputs": [
    {
     "name": "stdout",
     "output_type": "stream",
     "text": [
      "[[16, 22], [34, 49]]\n"
     ]
    }
   ],
   "source": [
    "m1 = Matrix(values = [[1,2,3],[4,5,6]])\n",
    "m2 = Matrix(values = [[0,1],[2,3],[4,5]])\n",
    "\n",
    "print(m1.matrix_multiplication(m2).matrix)"
   ]
  },
  {
   "cell_type": "code",
   "execution_count": 15,
   "id": "bc0a5659",
   "metadata": {},
   "outputs": [
    {
     "name": "stdout",
     "output_type": "stream",
     "text": [
      "True\n"
     ]
    }
   ],
   "source": [
    "m1 = Matrix(values = [[0,1],[2,3],[4,5]])\n",
    "m2 = Matrix(values = [[0,1],[2,3],[4,5]])\n",
    "\n",
    "print(m1.equal_matrix(m2))"
   ]
  },
  {
   "cell_type": "code",
   "execution_count": 16,
   "id": "7681d6e3",
   "metadata": {},
   "outputs": [
    {
     "name": "stdout",
     "output_type": "stream",
     "text": [
      "[[0, 2, 6], [12, 20, 30]]\n"
     ]
    }
   ],
   "source": [
    "m1 = Matrix(values = [[1,2,3],[4,5,6]])\n",
    "m2 = Matrix(values = [[0,1,2],[3,4,5]])\n",
    "\n",
    "print(m1.elementwise_multiplication(m2).matrix)"
   ]
  },
  {
   "cell_type": "markdown",
   "id": "35e6b70b",
   "metadata": {},
   "source": [
    "6. Demonstrate the basic properties of matrices with your matrix class by creating two 2 by 2 example matrices using your Matrix class and illustrating the following:\n",
    "\n",
    "    * (AB)C = A(BC)\n",
    "    * A(B+C) = AB + AC\n",
    "    * AB != BA\n",
    "    * AI = A"
   ]
  },
  {
   "cell_type": "code",
   "execution_count": 17,
   "id": "48012381",
   "metadata": {},
   "outputs": [],
   "source": [
    "A = Matrix(values = [[0,1],[2,3]])\n",
    "B = Matrix(values = [[4,5],[6,7]])\n",
    "C = Matrix(values = [[8,9],[10,11]])"
   ]
  },
  {
   "cell_type": "code",
   "execution_count": 18,
   "id": "31976055",
   "metadata": {},
   "outputs": [
    {
     "name": "stdout",
     "output_type": "stream",
     "text": [
      "[[118, 131], [518, 575]]\n",
      "[[118, 131], [518, 575]]\n"
     ]
    }
   ],
   "source": [
    "# (AB)C = A(BC)\n",
    "AB = A.matrix_multiplication(B)\n",
    "AB_C = AB.matrix_multiplication(C)\n",
    "print(AB_C.matrix)\n",
    "\n",
    "BC = B.matrix_multiplication(C)\n",
    "A_BC = A.matrix_multiplication(BC)\n",
    "print(A_BC.matrix)"
   ]
  },
  {
   "cell_type": "code",
   "execution_count": 27,
   "id": "61104415",
   "metadata": {},
   "outputs": [
    {
     "name": "stdout",
     "output_type": "stream",
     "text": [
      "A(B+C) =  [[16, 18], [72, 82]]\n",
      "AB + AC =  [[16, 18], [72, 82]]\n"
     ]
    }
   ],
   "source": [
    "B_and_C = B.add_matrix(C)\n",
    "\n",
    "A_multiply_B_and_C = A.matrix_multiplication(B_and_C)\n",
    "print(\"A(B+C) = \", A_multiply_B_and_C.matrix)\n",
    "\n",
    "A_multiply_B = A.matrix_multiplication(B)\n",
    "A_multiply_C = A.matrix_multiplication(C)\n",
    "\n",
    "result = A_multiply_B.add_matrix(A_multiply_C)\n",
    "print(\"AB + AC = \", result.matrix)"
   ]
  },
  {
   "cell_type": "code",
   "execution_count": 28,
   "id": "e084aa83",
   "metadata": {},
   "outputs": [
    {
     "name": "stdout",
     "output_type": "stream",
     "text": [
      "AB =  [[6, 7], [26, 31]]\n",
      "BA =  [[10, 19], [14, 27]]\n"
     ]
    }
   ],
   "source": [
    "A_multiply_B = A.matrix_multiplication(B)\n",
    "B_multiply_A = B.matrix_multiplication(A)\n",
    "\n",
    "print(\"AB = \", A_multiply_B.matrix)\n",
    "print(\"BA = \", B_multiply_A.matrix)"
   ]
  },
  {
   "cell_type": "code",
   "execution_count": 31,
   "id": "3fad0e96",
   "metadata": {},
   "outputs": [
    {
     "name": "stdout",
     "output_type": "stream",
     "text": [
      "A =  [[0, 1], [2, 3]]\n",
      "AI =  [[0, 1], [2, 3]]\n"
     ]
    }
   ],
   "source": [
    "AI = A.scalar_multiplication(1)\n",
    "\n",
    "print(\"A = \", A.matrix)\n",
    "print(\"AI = \", AI.matrix)"
   ]
  }
 ],
 "metadata": {
  "kernelspec": {
   "display_name": "Python 3 (ipykernel)",
   "language": "python",
   "name": "python3"
  },
  "language_info": {
   "codemirror_mode": {
    "name": "ipython",
    "version": 3
   },
   "file_extension": ".py",
   "mimetype": "text/x-python",
   "name": "python",
   "nbconvert_exporter": "python",
   "pygments_lexer": "ipython3",
   "version": "3.12.3"
  }
 },
 "nbformat": 4,
 "nbformat_minor": 5
}
